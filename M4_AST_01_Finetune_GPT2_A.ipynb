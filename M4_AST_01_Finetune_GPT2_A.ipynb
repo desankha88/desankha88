{
  "nbformat": 4,
  "nbformat_minor": 0,
  "metadata": {
    "colab": {
      "provenance": [],
      "gpuType": "T4",
      "include_colab_link": true
    },
    "kernelspec": {
      "name": "python3",
      "display_name": "Python 3"
    },
    "language_info": {
      "name": "python"
    },
    "accelerator": "GPU",
    "widgets": {
      "application/vnd.jupyter.widget-state+json": {
        "ccf8fbd3f4a848df84b6fed3bb001742": {
          "model_module": "@jupyter-widgets/controls",
          "model_name": "HBoxModel",
          "model_module_version": "1.5.0",
          "state": {
            "_dom_classes": [],
            "_model_module": "@jupyter-widgets/controls",
            "_model_module_version": "1.5.0",
            "_model_name": "HBoxModel",
            "_view_count": null,
            "_view_module": "@jupyter-widgets/controls",
            "_view_module_version": "1.5.0",
            "_view_name": "HBoxView",
            "box_style": "",
            "children": [
              "IPY_MODEL_28347dc5ad734ef3a684dbed35e918bb",
              "IPY_MODEL_2ffcc0b0162e4abe9c3498e0a13abf48",
              "IPY_MODEL_6811300b70044e67815a6399cd6c7d45"
            ],
            "layout": "IPY_MODEL_01fb71c9dc68411786a4b4751d4311cf"
          }
        },
        "28347dc5ad734ef3a684dbed35e918bb": {
          "model_module": "@jupyter-widgets/controls",
          "model_name": "HTMLModel",
          "model_module_version": "1.5.0",
          "state": {
            "_dom_classes": [],
            "_model_module": "@jupyter-widgets/controls",
            "_model_module_version": "1.5.0",
            "_model_name": "HTMLModel",
            "_view_count": null,
            "_view_module": "@jupyter-widgets/controls",
            "_view_module_version": "1.5.0",
            "_view_name": "HTMLView",
            "description": "",
            "description_tooltip": null,
            "layout": "IPY_MODEL_1ca0ec705a4049959d32122aa2a93b45",
            "placeholder": "​",
            "style": "IPY_MODEL_48684a090f4143aeba4325c35cede991",
            "value": "tokenizer_config.json: 100%"
          }
        },
        "2ffcc0b0162e4abe9c3498e0a13abf48": {
          "model_module": "@jupyter-widgets/controls",
          "model_name": "FloatProgressModel",
          "model_module_version": "1.5.0",
          "state": {
            "_dom_classes": [],
            "_model_module": "@jupyter-widgets/controls",
            "_model_module_version": "1.5.0",
            "_model_name": "FloatProgressModel",
            "_view_count": null,
            "_view_module": "@jupyter-widgets/controls",
            "_view_module_version": "1.5.0",
            "_view_name": "ProgressView",
            "bar_style": "success",
            "description": "",
            "description_tooltip": null,
            "layout": "IPY_MODEL_4f3448777af14d10a43e567d935a05a6",
            "max": 26,
            "min": 0,
            "orientation": "horizontal",
            "style": "IPY_MODEL_595c8fd14f2440e0902a9c3cfffc979a",
            "value": 26
          }
        },
        "6811300b70044e67815a6399cd6c7d45": {
          "model_module": "@jupyter-widgets/controls",
          "model_name": "HTMLModel",
          "model_module_version": "1.5.0",
          "state": {
            "_dom_classes": [],
            "_model_module": "@jupyter-widgets/controls",
            "_model_module_version": "1.5.0",
            "_model_name": "HTMLModel",
            "_view_count": null,
            "_view_module": "@jupyter-widgets/controls",
            "_view_module_version": "1.5.0",
            "_view_name": "HTMLView",
            "description": "",
            "description_tooltip": null,
            "layout": "IPY_MODEL_d65e7c406bd9405786548765dd559d55",
            "placeholder": "​",
            "style": "IPY_MODEL_72fb3f007151466fbd450542f839b552",
            "value": " 26.0/26.0 [00:00&lt;00:00, 1.94kB/s]"
          }
        },
        "01fb71c9dc68411786a4b4751d4311cf": {
          "model_module": "@jupyter-widgets/base",
          "model_name": "LayoutModel",
          "model_module_version": "1.2.0",
          "state": {
            "_model_module": "@jupyter-widgets/base",
            "_model_module_version": "1.2.0",
            "_model_name": "LayoutModel",
            "_view_count": null,
            "_view_module": "@jupyter-widgets/base",
            "_view_module_version": "1.2.0",
            "_view_name": "LayoutView",
            "align_content": null,
            "align_items": null,
            "align_self": null,
            "border": null,
            "bottom": null,
            "display": null,
            "flex": null,
            "flex_flow": null,
            "grid_area": null,
            "grid_auto_columns": null,
            "grid_auto_flow": null,
            "grid_auto_rows": null,
            "grid_column": null,
            "grid_gap": null,
            "grid_row": null,
            "grid_template_areas": null,
            "grid_template_columns": null,
            "grid_template_rows": null,
            "height": null,
            "justify_content": null,
            "justify_items": null,
            "left": null,
            "margin": null,
            "max_height": null,
            "max_width": null,
            "min_height": null,
            "min_width": null,
            "object_fit": null,
            "object_position": null,
            "order": null,
            "overflow": null,
            "overflow_x": null,
            "overflow_y": null,
            "padding": null,
            "right": null,
            "top": null,
            "visibility": null,
            "width": null
          }
        },
        "1ca0ec705a4049959d32122aa2a93b45": {
          "model_module": "@jupyter-widgets/base",
          "model_name": "LayoutModel",
          "model_module_version": "1.2.0",
          "state": {
            "_model_module": "@jupyter-widgets/base",
            "_model_module_version": "1.2.0",
            "_model_name": "LayoutModel",
            "_view_count": null,
            "_view_module": "@jupyter-widgets/base",
            "_view_module_version": "1.2.0",
            "_view_name": "LayoutView",
            "align_content": null,
            "align_items": null,
            "align_self": null,
            "border": null,
            "bottom": null,
            "display": null,
            "flex": null,
            "flex_flow": null,
            "grid_area": null,
            "grid_auto_columns": null,
            "grid_auto_flow": null,
            "grid_auto_rows": null,
            "grid_column": null,
            "grid_gap": null,
            "grid_row": null,
            "grid_template_areas": null,
            "grid_template_columns": null,
            "grid_template_rows": null,
            "height": null,
            "justify_content": null,
            "justify_items": null,
            "left": null,
            "margin": null,
            "max_height": null,
            "max_width": null,
            "min_height": null,
            "min_width": null,
            "object_fit": null,
            "object_position": null,
            "order": null,
            "overflow": null,
            "overflow_x": null,
            "overflow_y": null,
            "padding": null,
            "right": null,
            "top": null,
            "visibility": null,
            "width": null
          }
        },
        "48684a090f4143aeba4325c35cede991": {
          "model_module": "@jupyter-widgets/controls",
          "model_name": "DescriptionStyleModel",
          "model_module_version": "1.5.0",
          "state": {
            "_model_module": "@jupyter-widgets/controls",
            "_model_module_version": "1.5.0",
            "_model_name": "DescriptionStyleModel",
            "_view_count": null,
            "_view_module": "@jupyter-widgets/base",
            "_view_module_version": "1.2.0",
            "_view_name": "StyleView",
            "description_width": ""
          }
        },
        "4f3448777af14d10a43e567d935a05a6": {
          "model_module": "@jupyter-widgets/base",
          "model_name": "LayoutModel",
          "model_module_version": "1.2.0",
          "state": {
            "_model_module": "@jupyter-widgets/base",
            "_model_module_version": "1.2.0",
            "_model_name": "LayoutModel",
            "_view_count": null,
            "_view_module": "@jupyter-widgets/base",
            "_view_module_version": "1.2.0",
            "_view_name": "LayoutView",
            "align_content": null,
            "align_items": null,
            "align_self": null,
            "border": null,
            "bottom": null,
            "display": null,
            "flex": null,
            "flex_flow": null,
            "grid_area": null,
            "grid_auto_columns": null,
            "grid_auto_flow": null,
            "grid_auto_rows": null,
            "grid_column": null,
            "grid_gap": null,
            "grid_row": null,
            "grid_template_areas": null,
            "grid_template_columns": null,
            "grid_template_rows": null,
            "height": null,
            "justify_content": null,
            "justify_items": null,
            "left": null,
            "margin": null,
            "max_height": null,
            "max_width": null,
            "min_height": null,
            "min_width": null,
            "object_fit": null,
            "object_position": null,
            "order": null,
            "overflow": null,
            "overflow_x": null,
            "overflow_y": null,
            "padding": null,
            "right": null,
            "top": null,
            "visibility": null,
            "width": null
          }
        },
        "595c8fd14f2440e0902a9c3cfffc979a": {
          "model_module": "@jupyter-widgets/controls",
          "model_name": "ProgressStyleModel",
          "model_module_version": "1.5.0",
          "state": {
            "_model_module": "@jupyter-widgets/controls",
            "_model_module_version": "1.5.0",
            "_model_name": "ProgressStyleModel",
            "_view_count": null,
            "_view_module": "@jupyter-widgets/base",
            "_view_module_version": "1.2.0",
            "_view_name": "StyleView",
            "bar_color": null,
            "description_width": ""
          }
        },
        "d65e7c406bd9405786548765dd559d55": {
          "model_module": "@jupyter-widgets/base",
          "model_name": "LayoutModel",
          "model_module_version": "1.2.0",
          "state": {
            "_model_module": "@jupyter-widgets/base",
            "_model_module_version": "1.2.0",
            "_model_name": "LayoutModel",
            "_view_count": null,
            "_view_module": "@jupyter-widgets/base",
            "_view_module_version": "1.2.0",
            "_view_name": "LayoutView",
            "align_content": null,
            "align_items": null,
            "align_self": null,
            "border": null,
            "bottom": null,
            "display": null,
            "flex": null,
            "flex_flow": null,
            "grid_area": null,
            "grid_auto_columns": null,
            "grid_auto_flow": null,
            "grid_auto_rows": null,
            "grid_column": null,
            "grid_gap": null,
            "grid_row": null,
            "grid_template_areas": null,
            "grid_template_columns": null,
            "grid_template_rows": null,
            "height": null,
            "justify_content": null,
            "justify_items": null,
            "left": null,
            "margin": null,
            "max_height": null,
            "max_width": null,
            "min_height": null,
            "min_width": null,
            "object_fit": null,
            "object_position": null,
            "order": null,
            "overflow": null,
            "overflow_x": null,
            "overflow_y": null,
            "padding": null,
            "right": null,
            "top": null,
            "visibility": null,
            "width": null
          }
        },
        "72fb3f007151466fbd450542f839b552": {
          "model_module": "@jupyter-widgets/controls",
          "model_name": "DescriptionStyleModel",
          "model_module_version": "1.5.0",
          "state": {
            "_model_module": "@jupyter-widgets/controls",
            "_model_module_version": "1.5.0",
            "_model_name": "DescriptionStyleModel",
            "_view_count": null,
            "_view_module": "@jupyter-widgets/base",
            "_view_module_version": "1.2.0",
            "_view_name": "StyleView",
            "description_width": ""
          }
        },
        "66d2ec4ed67048b4b5665da585a9a4a7": {
          "model_module": "@jupyter-widgets/controls",
          "model_name": "HBoxModel",
          "model_module_version": "1.5.0",
          "state": {
            "_dom_classes": [],
            "_model_module": "@jupyter-widgets/controls",
            "_model_module_version": "1.5.0",
            "_model_name": "HBoxModel",
            "_view_count": null,
            "_view_module": "@jupyter-widgets/controls",
            "_view_module_version": "1.5.0",
            "_view_name": "HBoxView",
            "box_style": "",
            "children": [
              "IPY_MODEL_09a5c3855a3d421c9d5bb4b4398a9c63",
              "IPY_MODEL_5a88833281304f57bfa36303916b4412",
              "IPY_MODEL_d5242acb47f54ab3bbe7f792d2c1f374"
            ],
            "layout": "IPY_MODEL_6edb62e899df4c73b44a81fd687e98fe"
          }
        },
        "09a5c3855a3d421c9d5bb4b4398a9c63": {
          "model_module": "@jupyter-widgets/controls",
          "model_name": "HTMLModel",
          "model_module_version": "1.5.0",
          "state": {
            "_dom_classes": [],
            "_model_module": "@jupyter-widgets/controls",
            "_model_module_version": "1.5.0",
            "_model_name": "HTMLModel",
            "_view_count": null,
            "_view_module": "@jupyter-widgets/controls",
            "_view_module_version": "1.5.0",
            "_view_name": "HTMLView",
            "description": "",
            "description_tooltip": null,
            "layout": "IPY_MODEL_4fe729cb78f1454f9c0e69db59a0822b",
            "placeholder": "​",
            "style": "IPY_MODEL_a79059bda5d7454abbc966cb4fa3c566",
            "value": "vocab.json: 100%"
          }
        },
        "5a88833281304f57bfa36303916b4412": {
          "model_module": "@jupyter-widgets/controls",
          "model_name": "FloatProgressModel",
          "model_module_version": "1.5.0",
          "state": {
            "_dom_classes": [],
            "_model_module": "@jupyter-widgets/controls",
            "_model_module_version": "1.5.0",
            "_model_name": "FloatProgressModel",
            "_view_count": null,
            "_view_module": "@jupyter-widgets/controls",
            "_view_module_version": "1.5.0",
            "_view_name": "ProgressView",
            "bar_style": "success",
            "description": "",
            "description_tooltip": null,
            "layout": "IPY_MODEL_34654a959a98481387ce48c62c10200e",
            "max": 1042301,
            "min": 0,
            "orientation": "horizontal",
            "style": "IPY_MODEL_db5ed79bd0c34ea18f320861791d2b64",
            "value": 1042301
          }
        },
        "d5242acb47f54ab3bbe7f792d2c1f374": {
          "model_module": "@jupyter-widgets/controls",
          "model_name": "HTMLModel",
          "model_module_version": "1.5.0",
          "state": {
            "_dom_classes": [],
            "_model_module": "@jupyter-widgets/controls",
            "_model_module_version": "1.5.0",
            "_model_name": "HTMLModel",
            "_view_count": null,
            "_view_module": "@jupyter-widgets/controls",
            "_view_module_version": "1.5.0",
            "_view_name": "HTMLView",
            "description": "",
            "description_tooltip": null,
            "layout": "IPY_MODEL_88c4f93df798442c9175f47e74d7cd9d",
            "placeholder": "​",
            "style": "IPY_MODEL_61fc4169ca494d6aa6504526bc704e77",
            "value": " 1.04M/1.04M [00:00&lt;00:00, 2.08MB/s]"
          }
        },
        "6edb62e899df4c73b44a81fd687e98fe": {
          "model_module": "@jupyter-widgets/base",
          "model_name": "LayoutModel",
          "model_module_version": "1.2.0",
          "state": {
            "_model_module": "@jupyter-widgets/base",
            "_model_module_version": "1.2.0",
            "_model_name": "LayoutModel",
            "_view_count": null,
            "_view_module": "@jupyter-widgets/base",
            "_view_module_version": "1.2.0",
            "_view_name": "LayoutView",
            "align_content": null,
            "align_items": null,
            "align_self": null,
            "border": null,
            "bottom": null,
            "display": null,
            "flex": null,
            "flex_flow": null,
            "grid_area": null,
            "grid_auto_columns": null,
            "grid_auto_flow": null,
            "grid_auto_rows": null,
            "grid_column": null,
            "grid_gap": null,
            "grid_row": null,
            "grid_template_areas": null,
            "grid_template_columns": null,
            "grid_template_rows": null,
            "height": null,
            "justify_content": null,
            "justify_items": null,
            "left": null,
            "margin": null,
            "max_height": null,
            "max_width": null,
            "min_height": null,
            "min_width": null,
            "object_fit": null,
            "object_position": null,
            "order": null,
            "overflow": null,
            "overflow_x": null,
            "overflow_y": null,
            "padding": null,
            "right": null,
            "top": null,
            "visibility": null,
            "width": null
          }
        },
        "4fe729cb78f1454f9c0e69db59a0822b": {
          "model_module": "@jupyter-widgets/base",
          "model_name": "LayoutModel",
          "model_module_version": "1.2.0",
          "state": {
            "_model_module": "@jupyter-widgets/base",
            "_model_module_version": "1.2.0",
            "_model_name": "LayoutModel",
            "_view_count": null,
            "_view_module": "@jupyter-widgets/base",
            "_view_module_version": "1.2.0",
            "_view_name": "LayoutView",
            "align_content": null,
            "align_items": null,
            "align_self": null,
            "border": null,
            "bottom": null,
            "display": null,
            "flex": null,
            "flex_flow": null,
            "grid_area": null,
            "grid_auto_columns": null,
            "grid_auto_flow": null,
            "grid_auto_rows": null,
            "grid_column": null,
            "grid_gap": null,
            "grid_row": null,
            "grid_template_areas": null,
            "grid_template_columns": null,
            "grid_template_rows": null,
            "height": null,
            "justify_content": null,
            "justify_items": null,
            "left": null,
            "margin": null,
            "max_height": null,
            "max_width": null,
            "min_height": null,
            "min_width": null,
            "object_fit": null,
            "object_position": null,
            "order": null,
            "overflow": null,
            "overflow_x": null,
            "overflow_y": null,
            "padding": null,
            "right": null,
            "top": null,
            "visibility": null,
            "width": null
          }
        },
        "a79059bda5d7454abbc966cb4fa3c566": {
          "model_module": "@jupyter-widgets/controls",
          "model_name": "DescriptionStyleModel",
          "model_module_version": "1.5.0",
          "state": {
            "_model_module": "@jupyter-widgets/controls",
            "_model_module_version": "1.5.0",
            "_model_name": "DescriptionStyleModel",
            "_view_count": null,
            "_view_module": "@jupyter-widgets/base",
            "_view_module_version": "1.2.0",
            "_view_name": "StyleView",
            "description_width": ""
          }
        },
        "34654a959a98481387ce48c62c10200e": {
          "model_module": "@jupyter-widgets/base",
          "model_name": "LayoutModel",
          "model_module_version": "1.2.0",
          "state": {
            "_model_module": "@jupyter-widgets/base",
            "_model_module_version": "1.2.0",
            "_model_name": "LayoutModel",
            "_view_count": null,
            "_view_module": "@jupyter-widgets/base",
            "_view_module_version": "1.2.0",
            "_view_name": "LayoutView",
            "align_content": null,
            "align_items": null,
            "align_self": null,
            "border": null,
            "bottom": null,
            "display": null,
            "flex": null,
            "flex_flow": null,
            "grid_area": null,
            "grid_auto_columns": null,
            "grid_auto_flow": null,
            "grid_auto_rows": null,
            "grid_column": null,
            "grid_gap": null,
            "grid_row": null,
            "grid_template_areas": null,
            "grid_template_columns": null,
            "grid_template_rows": null,
            "height": null,
            "justify_content": null,
            "justify_items": null,
            "left": null,
            "margin": null,
            "max_height": null,
            "max_width": null,
            "min_height": null,
            "min_width": null,
            "object_fit": null,
            "object_position": null,
            "order": null,
            "overflow": null,
            "overflow_x": null,
            "overflow_y": null,
            "padding": null,
            "right": null,
            "top": null,
            "visibility": null,
            "width": null
          }
        },
        "db5ed79bd0c34ea18f320861791d2b64": {
          "model_module": "@jupyter-widgets/controls",
          "model_name": "ProgressStyleModel",
          "model_module_version": "1.5.0",
          "state": {
            "_model_module": "@jupyter-widgets/controls",
            "_model_module_version": "1.5.0",
            "_model_name": "ProgressStyleModel",
            "_view_count": null,
            "_view_module": "@jupyter-widgets/base",
            "_view_module_version": "1.2.0",
            "_view_name": "StyleView",
            "bar_color": null,
            "description_width": ""
          }
        },
        "88c4f93df798442c9175f47e74d7cd9d": {
          "model_module": "@jupyter-widgets/base",
          "model_name": "LayoutModel",
          "model_module_version": "1.2.0",
          "state": {
            "_model_module": "@jupyter-widgets/base",
            "_model_module_version": "1.2.0",
            "_model_name": "LayoutModel",
            "_view_count": null,
            "_view_module": "@jupyter-widgets/base",
            "_view_module_version": "1.2.0",
            "_view_name": "LayoutView",
            "align_content": null,
            "align_items": null,
            "align_self": null,
            "border": null,
            "bottom": null,
            "display": null,
            "flex": null,
            "flex_flow": null,
            "grid_area": null,
            "grid_auto_columns": null,
            "grid_auto_flow": null,
            "grid_auto_rows": null,
            "grid_column": null,
            "grid_gap": null,
            "grid_row": null,
            "grid_template_areas": null,
            "grid_template_columns": null,
            "grid_template_rows": null,
            "height": null,
            "justify_content": null,
            "justify_items": null,
            "left": null,
            "margin": null,
            "max_height": null,
            "max_width": null,
            "min_height": null,
            "min_width": null,
            "object_fit": null,
            "object_position": null,
            "order": null,
            "overflow": null,
            "overflow_x": null,
            "overflow_y": null,
            "padding": null,
            "right": null,
            "top": null,
            "visibility": null,
            "width": null
          }
        },
        "61fc4169ca494d6aa6504526bc704e77": {
          "model_module": "@jupyter-widgets/controls",
          "model_name": "DescriptionStyleModel",
          "model_module_version": "1.5.0",
          "state": {
            "_model_module": "@jupyter-widgets/controls",
            "_model_module_version": "1.5.0",
            "_model_name": "DescriptionStyleModel",
            "_view_count": null,
            "_view_module": "@jupyter-widgets/base",
            "_view_module_version": "1.2.0",
            "_view_name": "StyleView",
            "description_width": ""
          }
        },
        "41fc2173080148468eeab76c987b983f": {
          "model_module": "@jupyter-widgets/controls",
          "model_name": "HBoxModel",
          "model_module_version": "1.5.0",
          "state": {
            "_dom_classes": [],
            "_model_module": "@jupyter-widgets/controls",
            "_model_module_version": "1.5.0",
            "_model_name": "HBoxModel",
            "_view_count": null,
            "_view_module": "@jupyter-widgets/controls",
            "_view_module_version": "1.5.0",
            "_view_name": "HBoxView",
            "box_style": "",
            "children": [
              "IPY_MODEL_22ea592dde1849b98d424ae3d8805273",
              "IPY_MODEL_d9f8349e4d3b41a99a9326ed9cc72339",
              "IPY_MODEL_e83e6007ac124fbe94606894e3ff56f6"
            ],
            "layout": "IPY_MODEL_6cbc37f5b10c48049592d3ed0af3467a"
          }
        },
        "22ea592dde1849b98d424ae3d8805273": {
          "model_module": "@jupyter-widgets/controls",
          "model_name": "HTMLModel",
          "model_module_version": "1.5.0",
          "state": {
            "_dom_classes": [],
            "_model_module": "@jupyter-widgets/controls",
            "_model_module_version": "1.5.0",
            "_model_name": "HTMLModel",
            "_view_count": null,
            "_view_module": "@jupyter-widgets/controls",
            "_view_module_version": "1.5.0",
            "_view_name": "HTMLView",
            "description": "",
            "description_tooltip": null,
            "layout": "IPY_MODEL_db6e97d8f9d9420f8ffd22408388f16d",
            "placeholder": "​",
            "style": "IPY_MODEL_b36505bf4da64087855e109ccddd0d1b",
            "value": "merges.txt: 100%"
          }
        },
        "d9f8349e4d3b41a99a9326ed9cc72339": {
          "model_module": "@jupyter-widgets/controls",
          "model_name": "FloatProgressModel",
          "model_module_version": "1.5.0",
          "state": {
            "_dom_classes": [],
            "_model_module": "@jupyter-widgets/controls",
            "_model_module_version": "1.5.0",
            "_model_name": "FloatProgressModel",
            "_view_count": null,
            "_view_module": "@jupyter-widgets/controls",
            "_view_module_version": "1.5.0",
            "_view_name": "ProgressView",
            "bar_style": "success",
            "description": "",
            "description_tooltip": null,
            "layout": "IPY_MODEL_70b5f429bade4e668e3b330b7edbf404",
            "max": 456318,
            "min": 0,
            "orientation": "horizontal",
            "style": "IPY_MODEL_1fa4aa7106ea49d8a76c6523db3a8ee4",
            "value": 456318
          }
        },
        "e83e6007ac124fbe94606894e3ff56f6": {
          "model_module": "@jupyter-widgets/controls",
          "model_name": "HTMLModel",
          "model_module_version": "1.5.0",
          "state": {
            "_dom_classes": [],
            "_model_module": "@jupyter-widgets/controls",
            "_model_module_version": "1.5.0",
            "_model_name": "HTMLModel",
            "_view_count": null,
            "_view_module": "@jupyter-widgets/controls",
            "_view_module_version": "1.5.0",
            "_view_name": "HTMLView",
            "description": "",
            "description_tooltip": null,
            "layout": "IPY_MODEL_4238c8e80138410f922851d436785149",
            "placeholder": "​",
            "style": "IPY_MODEL_104f631255df4866b095d798bfa2607e",
            "value": " 456k/456k [00:00&lt;00:00, 1.08MB/s]"
          }
        },
        "6cbc37f5b10c48049592d3ed0af3467a": {
          "model_module": "@jupyter-widgets/base",
          "model_name": "LayoutModel",
          "model_module_version": "1.2.0",
          "state": {
            "_model_module": "@jupyter-widgets/base",
            "_model_module_version": "1.2.0",
            "_model_name": "LayoutModel",
            "_view_count": null,
            "_view_module": "@jupyter-widgets/base",
            "_view_module_version": "1.2.0",
            "_view_name": "LayoutView",
            "align_content": null,
            "align_items": null,
            "align_self": null,
            "border": null,
            "bottom": null,
            "display": null,
            "flex": null,
            "flex_flow": null,
            "grid_area": null,
            "grid_auto_columns": null,
            "grid_auto_flow": null,
            "grid_auto_rows": null,
            "grid_column": null,
            "grid_gap": null,
            "grid_row": null,
            "grid_template_areas": null,
            "grid_template_columns": null,
            "grid_template_rows": null,
            "height": null,
            "justify_content": null,
            "justify_items": null,
            "left": null,
            "margin": null,
            "max_height": null,
            "max_width": null,
            "min_height": null,
            "min_width": null,
            "object_fit": null,
            "object_position": null,
            "order": null,
            "overflow": null,
            "overflow_x": null,
            "overflow_y": null,
            "padding": null,
            "right": null,
            "top": null,
            "visibility": null,
            "width": null
          }
        },
        "db6e97d8f9d9420f8ffd22408388f16d": {
          "model_module": "@jupyter-widgets/base",
          "model_name": "LayoutModel",
          "model_module_version": "1.2.0",
          "state": {
            "_model_module": "@jupyter-widgets/base",
            "_model_module_version": "1.2.0",
            "_model_name": "LayoutModel",
            "_view_count": null,
            "_view_module": "@jupyter-widgets/base",
            "_view_module_version": "1.2.0",
            "_view_name": "LayoutView",
            "align_content": null,
            "align_items": null,
            "align_self": null,
            "border": null,
            "bottom": null,
            "display": null,
            "flex": null,
            "flex_flow": null,
            "grid_area": null,
            "grid_auto_columns": null,
            "grid_auto_flow": null,
            "grid_auto_rows": null,
            "grid_column": null,
            "grid_gap": null,
            "grid_row": null,
            "grid_template_areas": null,
            "grid_template_columns": null,
            "grid_template_rows": null,
            "height": null,
            "justify_content": null,
            "justify_items": null,
            "left": null,
            "margin": null,
            "max_height": null,
            "max_width": null,
            "min_height": null,
            "min_width": null,
            "object_fit": null,
            "object_position": null,
            "order": null,
            "overflow": null,
            "overflow_x": null,
            "overflow_y": null,
            "padding": null,
            "right": null,
            "top": null,
            "visibility": null,
            "width": null
          }
        },
        "b36505bf4da64087855e109ccddd0d1b": {
          "model_module": "@jupyter-widgets/controls",
          "model_name": "DescriptionStyleModel",
          "model_module_version": "1.5.0",
          "state": {
            "_model_module": "@jupyter-widgets/controls",
            "_model_module_version": "1.5.0",
            "_model_name": "DescriptionStyleModel",
            "_view_count": null,
            "_view_module": "@jupyter-widgets/base",
            "_view_module_version": "1.2.0",
            "_view_name": "StyleView",
            "description_width": ""
          }
        },
        "70b5f429bade4e668e3b330b7edbf404": {
          "model_module": "@jupyter-widgets/base",
          "model_name": "LayoutModel",
          "model_module_version": "1.2.0",
          "state": {
            "_model_module": "@jupyter-widgets/base",
            "_model_module_version": "1.2.0",
            "_model_name": "LayoutModel",
            "_view_count": null,
            "_view_module": "@jupyter-widgets/base",
            "_view_module_version": "1.2.0",
            "_view_name": "LayoutView",
            "align_content": null,
            "align_items": null,
            "align_self": null,
            "border": null,
            "bottom": null,
            "display": null,
            "flex": null,
            "flex_flow": null,
            "grid_area": null,
            "grid_auto_columns": null,
            "grid_auto_flow": null,
            "grid_auto_rows": null,
            "grid_column": null,
            "grid_gap": null,
            "grid_row": null,
            "grid_template_areas": null,
            "grid_template_columns": null,
            "grid_template_rows": null,
            "height": null,
            "justify_content": null,
            "justify_items": null,
            "left": null,
            "margin": null,
            "max_height": null,
            "max_width": null,
            "min_height": null,
            "min_width": null,
            "object_fit": null,
            "object_position": null,
            "order": null,
            "overflow": null,
            "overflow_x": null,
            "overflow_y": null,
            "padding": null,
            "right": null,
            "top": null,
            "visibility": null,
            "width": null
          }
        },
        "1fa4aa7106ea49d8a76c6523db3a8ee4": {
          "model_module": "@jupyter-widgets/controls",
          "model_name": "ProgressStyleModel",
          "model_module_version": "1.5.0",
          "state": {
            "_model_module": "@jupyter-widgets/controls",
            "_model_module_version": "1.5.0",
            "_model_name": "ProgressStyleModel",
            "_view_count": null,
            "_view_module": "@jupyter-widgets/base",
            "_view_module_version": "1.2.0",
            "_view_name": "StyleView",
            "bar_color": null,
            "description_width": ""
          }
        },
        "4238c8e80138410f922851d436785149": {
          "model_module": "@jupyter-widgets/base",
          "model_name": "LayoutModel",
          "model_module_version": "1.2.0",
          "state": {
            "_model_module": "@jupyter-widgets/base",
            "_model_module_version": "1.2.0",
            "_model_name": "LayoutModel",
            "_view_count": null,
            "_view_module": "@jupyter-widgets/base",
            "_view_module_version": "1.2.0",
            "_view_name": "LayoutView",
            "align_content": null,
            "align_items": null,
            "align_self": null,
            "border": null,
            "bottom": null,
            "display": null,
            "flex": null,
            "flex_flow": null,
            "grid_area": null,
            "grid_auto_columns": null,
            "grid_auto_flow": null,
            "grid_auto_rows": null,
            "grid_column": null,
            "grid_gap": null,
            "grid_row": null,
            "grid_template_areas": null,
            "grid_template_columns": null,
            "grid_template_rows": null,
            "height": null,
            "justify_content": null,
            "justify_items": null,
            "left": null,
            "margin": null,
            "max_height": null,
            "max_width": null,
            "min_height": null,
            "min_width": null,
            "object_fit": null,
            "object_position": null,
            "order": null,
            "overflow": null,
            "overflow_x": null,
            "overflow_y": null,
            "padding": null,
            "right": null,
            "top": null,
            "visibility": null,
            "width": null
          }
        },
        "104f631255df4866b095d798bfa2607e": {
          "model_module": "@jupyter-widgets/controls",
          "model_name": "DescriptionStyleModel",
          "model_module_version": "1.5.0",
          "state": {
            "_model_module": "@jupyter-widgets/controls",
            "_model_module_version": "1.5.0",
            "_model_name": "DescriptionStyleModel",
            "_view_count": null,
            "_view_module": "@jupyter-widgets/base",
            "_view_module_version": "1.2.0",
            "_view_name": "StyleView",
            "description_width": ""
          }
        },
        "acfd49c8ecdf42a89008ef60aaec529c": {
          "model_module": "@jupyter-widgets/controls",
          "model_name": "HBoxModel",
          "model_module_version": "1.5.0",
          "state": {
            "_dom_classes": [],
            "_model_module": "@jupyter-widgets/controls",
            "_model_module_version": "1.5.0",
            "_model_name": "HBoxModel",
            "_view_count": null,
            "_view_module": "@jupyter-widgets/controls",
            "_view_module_version": "1.5.0",
            "_view_name": "HBoxView",
            "box_style": "",
            "children": [
              "IPY_MODEL_d41acf9678214abf8efca145219c130e",
              "IPY_MODEL_6e5dd972bf3a4347a6ba91b3df269e48",
              "IPY_MODEL_638a007f84cb4d0c93b39df21ba23ae7"
            ],
            "layout": "IPY_MODEL_2b19b0eb272c47839bb0ebfeb4f16512"
          }
        },
        "d41acf9678214abf8efca145219c130e": {
          "model_module": "@jupyter-widgets/controls",
          "model_name": "HTMLModel",
          "model_module_version": "1.5.0",
          "state": {
            "_dom_classes": [],
            "_model_module": "@jupyter-widgets/controls",
            "_model_module_version": "1.5.0",
            "_model_name": "HTMLModel",
            "_view_count": null,
            "_view_module": "@jupyter-widgets/controls",
            "_view_module_version": "1.5.0",
            "_view_name": "HTMLView",
            "description": "",
            "description_tooltip": null,
            "layout": "IPY_MODEL_1b1d9db80670414bbce0a788b30452c1",
            "placeholder": "​",
            "style": "IPY_MODEL_4ab3207684cb434980056c3eb325198a",
            "value": "tokenizer.json: 100%"
          }
        },
        "6e5dd972bf3a4347a6ba91b3df269e48": {
          "model_module": "@jupyter-widgets/controls",
          "model_name": "FloatProgressModel",
          "model_module_version": "1.5.0",
          "state": {
            "_dom_classes": [],
            "_model_module": "@jupyter-widgets/controls",
            "_model_module_version": "1.5.0",
            "_model_name": "FloatProgressModel",
            "_view_count": null,
            "_view_module": "@jupyter-widgets/controls",
            "_view_module_version": "1.5.0",
            "_view_name": "ProgressView",
            "bar_style": "success",
            "description": "",
            "description_tooltip": null,
            "layout": "IPY_MODEL_197f937d5b634522bc4d92748ab0bcee",
            "max": 1355256,
            "min": 0,
            "orientation": "horizontal",
            "style": "IPY_MODEL_866df890144549af977dd6747b7f26bd",
            "value": 1355256
          }
        },
        "638a007f84cb4d0c93b39df21ba23ae7": {
          "model_module": "@jupyter-widgets/controls",
          "model_name": "HTMLModel",
          "model_module_version": "1.5.0",
          "state": {
            "_dom_classes": [],
            "_model_module": "@jupyter-widgets/controls",
            "_model_module_version": "1.5.0",
            "_model_name": "HTMLModel",
            "_view_count": null,
            "_view_module": "@jupyter-widgets/controls",
            "_view_module_version": "1.5.0",
            "_view_name": "HTMLView",
            "description": "",
            "description_tooltip": null,
            "layout": "IPY_MODEL_52376367f34042b7b137b221b606ebf1",
            "placeholder": "​",
            "style": "IPY_MODEL_7d04eefeb4f8419686ee6a4ca7ec158a",
            "value": " 1.36M/1.36M [00:00&lt;00:00, 48.3MB/s]"
          }
        },
        "2b19b0eb272c47839bb0ebfeb4f16512": {
          "model_module": "@jupyter-widgets/base",
          "model_name": "LayoutModel",
          "model_module_version": "1.2.0",
          "state": {
            "_model_module": "@jupyter-widgets/base",
            "_model_module_version": "1.2.0",
            "_model_name": "LayoutModel",
            "_view_count": null,
            "_view_module": "@jupyter-widgets/base",
            "_view_module_version": "1.2.0",
            "_view_name": "LayoutView",
            "align_content": null,
            "align_items": null,
            "align_self": null,
            "border": null,
            "bottom": null,
            "display": null,
            "flex": null,
            "flex_flow": null,
            "grid_area": null,
            "grid_auto_columns": null,
            "grid_auto_flow": null,
            "grid_auto_rows": null,
            "grid_column": null,
            "grid_gap": null,
            "grid_row": null,
            "grid_template_areas": null,
            "grid_template_columns": null,
            "grid_template_rows": null,
            "height": null,
            "justify_content": null,
            "justify_items": null,
            "left": null,
            "margin": null,
            "max_height": null,
            "max_width": null,
            "min_height": null,
            "min_width": null,
            "object_fit": null,
            "object_position": null,
            "order": null,
            "overflow": null,
            "overflow_x": null,
            "overflow_y": null,
            "padding": null,
            "right": null,
            "top": null,
            "visibility": null,
            "width": null
          }
        },
        "1b1d9db80670414bbce0a788b30452c1": {
          "model_module": "@jupyter-widgets/base",
          "model_name": "LayoutModel",
          "model_module_version": "1.2.0",
          "state": {
            "_model_module": "@jupyter-widgets/base",
            "_model_module_version": "1.2.0",
            "_model_name": "LayoutModel",
            "_view_count": null,
            "_view_module": "@jupyter-widgets/base",
            "_view_module_version": "1.2.0",
            "_view_name": "LayoutView",
            "align_content": null,
            "align_items": null,
            "align_self": null,
            "border": null,
            "bottom": null,
            "display": null,
            "flex": null,
            "flex_flow": null,
            "grid_area": null,
            "grid_auto_columns": null,
            "grid_auto_flow": null,
            "grid_auto_rows": null,
            "grid_column": null,
            "grid_gap": null,
            "grid_row": null,
            "grid_template_areas": null,
            "grid_template_columns": null,
            "grid_template_rows": null,
            "height": null,
            "justify_content": null,
            "justify_items": null,
            "left": null,
            "margin": null,
            "max_height": null,
            "max_width": null,
            "min_height": null,
            "min_width": null,
            "object_fit": null,
            "object_position": null,
            "order": null,
            "overflow": null,
            "overflow_x": null,
            "overflow_y": null,
            "padding": null,
            "right": null,
            "top": null,
            "visibility": null,
            "width": null
          }
        },
        "4ab3207684cb434980056c3eb325198a": {
          "model_module": "@jupyter-widgets/controls",
          "model_name": "DescriptionStyleModel",
          "model_module_version": "1.5.0",
          "state": {
            "_model_module": "@jupyter-widgets/controls",
            "_model_module_version": "1.5.0",
            "_model_name": "DescriptionStyleModel",
            "_view_count": null,
            "_view_module": "@jupyter-widgets/base",
            "_view_module_version": "1.2.0",
            "_view_name": "StyleView",
            "description_width": ""
          }
        },
        "197f937d5b634522bc4d92748ab0bcee": {
          "model_module": "@jupyter-widgets/base",
          "model_name": "LayoutModel",
          "model_module_version": "1.2.0",
          "state": {
            "_model_module": "@jupyter-widgets/base",
            "_model_module_version": "1.2.0",
            "_model_name": "LayoutModel",
            "_view_count": null,
            "_view_module": "@jupyter-widgets/base",
            "_view_module_version": "1.2.0",
            "_view_name": "LayoutView",
            "align_content": null,
            "align_items": null,
            "align_self": null,
            "border": null,
            "bottom": null,
            "display": null,
            "flex": null,
            "flex_flow": null,
            "grid_area": null,
            "grid_auto_columns": null,
            "grid_auto_flow": null,
            "grid_auto_rows": null,
            "grid_column": null,
            "grid_gap": null,
            "grid_row": null,
            "grid_template_areas": null,
            "grid_template_columns": null,
            "grid_template_rows": null,
            "height": null,
            "justify_content": null,
            "justify_items": null,
            "left": null,
            "margin": null,
            "max_height": null,
            "max_width": null,
            "min_height": null,
            "min_width": null,
            "object_fit": null,
            "object_position": null,
            "order": null,
            "overflow": null,
            "overflow_x": null,
            "overflow_y": null,
            "padding": null,
            "right": null,
            "top": null,
            "visibility": null,
            "width": null
          }
        },
        "866df890144549af977dd6747b7f26bd": {
          "model_module": "@jupyter-widgets/controls",
          "model_name": "ProgressStyleModel",
          "model_module_version": "1.5.0",
          "state": {
            "_model_module": "@jupyter-widgets/controls",
            "_model_module_version": "1.5.0",
            "_model_name": "ProgressStyleModel",
            "_view_count": null,
            "_view_module": "@jupyter-widgets/base",
            "_view_module_version": "1.2.0",
            "_view_name": "StyleView",
            "bar_color": null,
            "description_width": ""
          }
        },
        "52376367f34042b7b137b221b606ebf1": {
          "model_module": "@jupyter-widgets/base",
          "model_name": "LayoutModel",
          "model_module_version": "1.2.0",
          "state": {
            "_model_module": "@jupyter-widgets/base",
            "_model_module_version": "1.2.0",
            "_model_name": "LayoutModel",
            "_view_count": null,
            "_view_module": "@jupyter-widgets/base",
            "_view_module_version": "1.2.0",
            "_view_name": "LayoutView",
            "align_content": null,
            "align_items": null,
            "align_self": null,
            "border": null,
            "bottom": null,
            "display": null,
            "flex": null,
            "flex_flow": null,
            "grid_area": null,
            "grid_auto_columns": null,
            "grid_auto_flow": null,
            "grid_auto_rows": null,
            "grid_column": null,
            "grid_gap": null,
            "grid_row": null,
            "grid_template_areas": null,
            "grid_template_columns": null,
            "grid_template_rows": null,
            "height": null,
            "justify_content": null,
            "justify_items": null,
            "left": null,
            "margin": null,
            "max_height": null,
            "max_width": null,
            "min_height": null,
            "min_width": null,
            "object_fit": null,
            "object_position": null,
            "order": null,
            "overflow": null,
            "overflow_x": null,
            "overflow_y": null,
            "padding": null,
            "right": null,
            "top": null,
            "visibility": null,
            "width": null
          }
        },
        "7d04eefeb4f8419686ee6a4ca7ec158a": {
          "model_module": "@jupyter-widgets/controls",
          "model_name": "DescriptionStyleModel",
          "model_module_version": "1.5.0",
          "state": {
            "_model_module": "@jupyter-widgets/controls",
            "_model_module_version": "1.5.0",
            "_model_name": "DescriptionStyleModel",
            "_view_count": null,
            "_view_module": "@jupyter-widgets/base",
            "_view_module_version": "1.2.0",
            "_view_name": "StyleView",
            "description_width": ""
          }
        },
        "1ac3734f91c1426ab791fbb1453adf39": {
          "model_module": "@jupyter-widgets/controls",
          "model_name": "HBoxModel",
          "model_module_version": "1.5.0",
          "state": {
            "_dom_classes": [],
            "_model_module": "@jupyter-widgets/controls",
            "_model_module_version": "1.5.0",
            "_model_name": "HBoxModel",
            "_view_count": null,
            "_view_module": "@jupyter-widgets/controls",
            "_view_module_version": "1.5.0",
            "_view_name": "HBoxView",
            "box_style": "",
            "children": [
              "IPY_MODEL_ecbeeb3118c442f485dd65e33ad6e0eb",
              "IPY_MODEL_4bd183732b374725acfe73d873da4acd",
              "IPY_MODEL_0de0fdc0194247ed8085d3fd98c787e2"
            ],
            "layout": "IPY_MODEL_029c3502f7a642589aa7a1f4a28d50d7"
          }
        },
        "ecbeeb3118c442f485dd65e33ad6e0eb": {
          "model_module": "@jupyter-widgets/controls",
          "model_name": "HTMLModel",
          "model_module_version": "1.5.0",
          "state": {
            "_dom_classes": [],
            "_model_module": "@jupyter-widgets/controls",
            "_model_module_version": "1.5.0",
            "_model_name": "HTMLModel",
            "_view_count": null,
            "_view_module": "@jupyter-widgets/controls",
            "_view_module_version": "1.5.0",
            "_view_name": "HTMLView",
            "description": "",
            "description_tooltip": null,
            "layout": "IPY_MODEL_6b41fecd45764dcd92c1ceb9196ccf65",
            "placeholder": "​",
            "style": "IPY_MODEL_c9dfa38b88644974be0940ef769ee545",
            "value": "config.json: 100%"
          }
        },
        "4bd183732b374725acfe73d873da4acd": {
          "model_module": "@jupyter-widgets/controls",
          "model_name": "FloatProgressModel",
          "model_module_version": "1.5.0",
          "state": {
            "_dom_classes": [],
            "_model_module": "@jupyter-widgets/controls",
            "_model_module_version": "1.5.0",
            "_model_name": "FloatProgressModel",
            "_view_count": null,
            "_view_module": "@jupyter-widgets/controls",
            "_view_module_version": "1.5.0",
            "_view_name": "ProgressView",
            "bar_style": "success",
            "description": "",
            "description_tooltip": null,
            "layout": "IPY_MODEL_99acb6be98184ff98ce6f5f97ff75241",
            "max": 665,
            "min": 0,
            "orientation": "horizontal",
            "style": "IPY_MODEL_51fcd4afeb0441618cc2092719146ac8",
            "value": 665
          }
        },
        "0de0fdc0194247ed8085d3fd98c787e2": {
          "model_module": "@jupyter-widgets/controls",
          "model_name": "HTMLModel",
          "model_module_version": "1.5.0",
          "state": {
            "_dom_classes": [],
            "_model_module": "@jupyter-widgets/controls",
            "_model_module_version": "1.5.0",
            "_model_name": "HTMLModel",
            "_view_count": null,
            "_view_module": "@jupyter-widgets/controls",
            "_view_module_version": "1.5.0",
            "_view_name": "HTMLView",
            "description": "",
            "description_tooltip": null,
            "layout": "IPY_MODEL_10bff54856cf4232afd3d6e6f5b2021b",
            "placeholder": "​",
            "style": "IPY_MODEL_fddd572157af43c19a218f358a958a77",
            "value": " 665/665 [00:00&lt;00:00, 43.3kB/s]"
          }
        },
        "029c3502f7a642589aa7a1f4a28d50d7": {
          "model_module": "@jupyter-widgets/base",
          "model_name": "LayoutModel",
          "model_module_version": "1.2.0",
          "state": {
            "_model_module": "@jupyter-widgets/base",
            "_model_module_version": "1.2.0",
            "_model_name": "LayoutModel",
            "_view_count": null,
            "_view_module": "@jupyter-widgets/base",
            "_view_module_version": "1.2.0",
            "_view_name": "LayoutView",
            "align_content": null,
            "align_items": null,
            "align_self": null,
            "border": null,
            "bottom": null,
            "display": null,
            "flex": null,
            "flex_flow": null,
            "grid_area": null,
            "grid_auto_columns": null,
            "grid_auto_flow": null,
            "grid_auto_rows": null,
            "grid_column": null,
            "grid_gap": null,
            "grid_row": null,
            "grid_template_areas": null,
            "grid_template_columns": null,
            "grid_template_rows": null,
            "height": null,
            "justify_content": null,
            "justify_items": null,
            "left": null,
            "margin": null,
            "max_height": null,
            "max_width": null,
            "min_height": null,
            "min_width": null,
            "object_fit": null,
            "object_position": null,
            "order": null,
            "overflow": null,
            "overflow_x": null,
            "overflow_y": null,
            "padding": null,
            "right": null,
            "top": null,
            "visibility": null,
            "width": null
          }
        },
        "6b41fecd45764dcd92c1ceb9196ccf65": {
          "model_module": "@jupyter-widgets/base",
          "model_name": "LayoutModel",
          "model_module_version": "1.2.0",
          "state": {
            "_model_module": "@jupyter-widgets/base",
            "_model_module_version": "1.2.0",
            "_model_name": "LayoutModel",
            "_view_count": null,
            "_view_module": "@jupyter-widgets/base",
            "_view_module_version": "1.2.0",
            "_view_name": "LayoutView",
            "align_content": null,
            "align_items": null,
            "align_self": null,
            "border": null,
            "bottom": null,
            "display": null,
            "flex": null,
            "flex_flow": null,
            "grid_area": null,
            "grid_auto_columns": null,
            "grid_auto_flow": null,
            "grid_auto_rows": null,
            "grid_column": null,
            "grid_gap": null,
            "grid_row": null,
            "grid_template_areas": null,
            "grid_template_columns": null,
            "grid_template_rows": null,
            "height": null,
            "justify_content": null,
            "justify_items": null,
            "left": null,
            "margin": null,
            "max_height": null,
            "max_width": null,
            "min_height": null,
            "min_width": null,
            "object_fit": null,
            "object_position": null,
            "order": null,
            "overflow": null,
            "overflow_x": null,
            "overflow_y": null,
            "padding": null,
            "right": null,
            "top": null,
            "visibility": null,
            "width": null
          }
        },
        "c9dfa38b88644974be0940ef769ee545": {
          "model_module": "@jupyter-widgets/controls",
          "model_name": "DescriptionStyleModel",
          "model_module_version": "1.5.0",
          "state": {
            "_model_module": "@jupyter-widgets/controls",
            "_model_module_version": "1.5.0",
            "_model_name": "DescriptionStyleModel",
            "_view_count": null,
            "_view_module": "@jupyter-widgets/base",
            "_view_module_version": "1.2.0",
            "_view_name": "StyleView",
            "description_width": ""
          }
        },
        "99acb6be98184ff98ce6f5f97ff75241": {
          "model_module": "@jupyter-widgets/base",
          "model_name": "LayoutModel",
          "model_module_version": "1.2.0",
          "state": {
            "_model_module": "@jupyter-widgets/base",
            "_model_module_version": "1.2.0",
            "_model_name": "LayoutModel",
            "_view_count": null,
            "_view_module": "@jupyter-widgets/base",
            "_view_module_version": "1.2.0",
            "_view_name": "LayoutView",
            "align_content": null,
            "align_items": null,
            "align_self": null,
            "border": null,
            "bottom": null,
            "display": null,
            "flex": null,
            "flex_flow": null,
            "grid_area": null,
            "grid_auto_columns": null,
            "grid_auto_flow": null,
            "grid_auto_rows": null,
            "grid_column": null,
            "grid_gap": null,
            "grid_row": null,
            "grid_template_areas": null,
            "grid_template_columns": null,
            "grid_template_rows": null,
            "height": null,
            "justify_content": null,
            "justify_items": null,
            "left": null,
            "margin": null,
            "max_height": null,
            "max_width": null,
            "min_height": null,
            "min_width": null,
            "object_fit": null,
            "object_position": null,
            "order": null,
            "overflow": null,
            "overflow_x": null,
            "overflow_y": null,
            "padding": null,
            "right": null,
            "top": null,
            "visibility": null,
            "width": null
          }
        },
        "51fcd4afeb0441618cc2092719146ac8": {
          "model_module": "@jupyter-widgets/controls",
          "model_name": "ProgressStyleModel",
          "model_module_version": "1.5.0",
          "state": {
            "_model_module": "@jupyter-widgets/controls",
            "_model_module_version": "1.5.0",
            "_model_name": "ProgressStyleModel",
            "_view_count": null,
            "_view_module": "@jupyter-widgets/base",
            "_view_module_version": "1.2.0",
            "_view_name": "StyleView",
            "bar_color": null,
            "description_width": ""
          }
        },
        "10bff54856cf4232afd3d6e6f5b2021b": {
          "model_module": "@jupyter-widgets/base",
          "model_name": "LayoutModel",
          "model_module_version": "1.2.0",
          "state": {
            "_model_module": "@jupyter-widgets/base",
            "_model_module_version": "1.2.0",
            "_model_name": "LayoutModel",
            "_view_count": null,
            "_view_module": "@jupyter-widgets/base",
            "_view_module_version": "1.2.0",
            "_view_name": "LayoutView",
            "align_content": null,
            "align_items": null,
            "align_self": null,
            "border": null,
            "bottom": null,
            "display": null,
            "flex": null,
            "flex_flow": null,
            "grid_area": null,
            "grid_auto_columns": null,
            "grid_auto_flow": null,
            "grid_auto_rows": null,
            "grid_column": null,
            "grid_gap": null,
            "grid_row": null,
            "grid_template_areas": null,
            "grid_template_columns": null,
            "grid_template_rows": null,
            "height": null,
            "justify_content": null,
            "justify_items": null,
            "left": null,
            "margin": null,
            "max_height": null,
            "max_width": null,
            "min_height": null,
            "min_width": null,
            "object_fit": null,
            "object_position": null,
            "order": null,
            "overflow": null,
            "overflow_x": null,
            "overflow_y": null,
            "padding": null,
            "right": null,
            "top": null,
            "visibility": null,
            "width": null
          }
        },
        "fddd572157af43c19a218f358a958a77": {
          "model_module": "@jupyter-widgets/controls",
          "model_name": "DescriptionStyleModel",
          "model_module_version": "1.5.0",
          "state": {
            "_model_module": "@jupyter-widgets/controls",
            "_model_module_version": "1.5.0",
            "_model_name": "DescriptionStyleModel",
            "_view_count": null,
            "_view_module": "@jupyter-widgets/base",
            "_view_module_version": "1.2.0",
            "_view_name": "StyleView",
            "description_width": ""
          }
        },
        "5e112c2257e54684b9076f7e0274ceef": {
          "model_module": "@jupyter-widgets/controls",
          "model_name": "HBoxModel",
          "model_module_version": "1.5.0",
          "state": {
            "_dom_classes": [],
            "_model_module": "@jupyter-widgets/controls",
            "_model_module_version": "1.5.0",
            "_model_name": "HBoxModel",
            "_view_count": null,
            "_view_module": "@jupyter-widgets/controls",
            "_view_module_version": "1.5.0",
            "_view_name": "HBoxView",
            "box_style": "",
            "children": [
              "IPY_MODEL_8609cd507278420dbd827a672ef6df25",
              "IPY_MODEL_5201836acaf14dcdbafdefd0f1af174f",
              "IPY_MODEL_4f7a92db9355466d8c374bb6c7510ecd"
            ],
            "layout": "IPY_MODEL_df5836d19c3e46d5a445ad0255ad39ed"
          }
        },
        "8609cd507278420dbd827a672ef6df25": {
          "model_module": "@jupyter-widgets/controls",
          "model_name": "HTMLModel",
          "model_module_version": "1.5.0",
          "state": {
            "_dom_classes": [],
            "_model_module": "@jupyter-widgets/controls",
            "_model_module_version": "1.5.0",
            "_model_name": "HTMLModel",
            "_view_count": null,
            "_view_module": "@jupyter-widgets/controls",
            "_view_module_version": "1.5.0",
            "_view_name": "HTMLView",
            "description": "",
            "description_tooltip": null,
            "layout": "IPY_MODEL_7e07785b38c14f308844c09b7fa60347",
            "placeholder": "​",
            "style": "IPY_MODEL_e53a9c5f41ab457e9bf43c2bdb4886d3",
            "value": "Generating train split: "
          }
        },
        "5201836acaf14dcdbafdefd0f1af174f": {
          "model_module": "@jupyter-widgets/controls",
          "model_name": "FloatProgressModel",
          "model_module_version": "1.5.0",
          "state": {
            "_dom_classes": [],
            "_model_module": "@jupyter-widgets/controls",
            "_model_module_version": "1.5.0",
            "_model_name": "FloatProgressModel",
            "_view_count": null,
            "_view_module": "@jupyter-widgets/controls",
            "_view_module_version": "1.5.0",
            "_view_name": "ProgressView",
            "bar_style": "success",
            "description": "",
            "description_tooltip": null,
            "layout": "IPY_MODEL_20832c89323f42e99bbe65fdf049c06c",
            "max": 1,
            "min": 0,
            "orientation": "horizontal",
            "style": "IPY_MODEL_a616a121ed6648128cf9ae92f8153624",
            "value": 1
          }
        },
        "4f7a92db9355466d8c374bb6c7510ecd": {
          "model_module": "@jupyter-widgets/controls",
          "model_name": "HTMLModel",
          "model_module_version": "1.5.0",
          "state": {
            "_dom_classes": [],
            "_model_module": "@jupyter-widgets/controls",
            "_model_module_version": "1.5.0",
            "_model_name": "HTMLModel",
            "_view_count": null,
            "_view_module": "@jupyter-widgets/controls",
            "_view_module_version": "1.5.0",
            "_view_name": "HTMLView",
            "description": "",
            "description_tooltip": null,
            "layout": "IPY_MODEL_68a395fd524a4c38a2f2f6d9d96df094",
            "placeholder": "​",
            "style": "IPY_MODEL_625c13e7484840f69ad037ae8baeabe5",
            "value": " 185/0 [00:00&lt;00:00, 4251.36 examples/s]"
          }
        },
        "df5836d19c3e46d5a445ad0255ad39ed": {
          "model_module": "@jupyter-widgets/base",
          "model_name": "LayoutModel",
          "model_module_version": "1.2.0",
          "state": {
            "_model_module": "@jupyter-widgets/base",
            "_model_module_version": "1.2.0",
            "_model_name": "LayoutModel",
            "_view_count": null,
            "_view_module": "@jupyter-widgets/base",
            "_view_module_version": "1.2.0",
            "_view_name": "LayoutView",
            "align_content": null,
            "align_items": null,
            "align_self": null,
            "border": null,
            "bottom": null,
            "display": null,
            "flex": null,
            "flex_flow": null,
            "grid_area": null,
            "grid_auto_columns": null,
            "grid_auto_flow": null,
            "grid_auto_rows": null,
            "grid_column": null,
            "grid_gap": null,
            "grid_row": null,
            "grid_template_areas": null,
            "grid_template_columns": null,
            "grid_template_rows": null,
            "height": null,
            "justify_content": null,
            "justify_items": null,
            "left": null,
            "margin": null,
            "max_height": null,
            "max_width": null,
            "min_height": null,
            "min_width": null,
            "object_fit": null,
            "object_position": null,
            "order": null,
            "overflow": null,
            "overflow_x": null,
            "overflow_y": null,
            "padding": null,
            "right": null,
            "top": null,
            "visibility": null,
            "width": null
          }
        },
        "7e07785b38c14f308844c09b7fa60347": {
          "model_module": "@jupyter-widgets/base",
          "model_name": "LayoutModel",
          "model_module_version": "1.2.0",
          "state": {
            "_model_module": "@jupyter-widgets/base",
            "_model_module_version": "1.2.0",
            "_model_name": "LayoutModel",
            "_view_count": null,
            "_view_module": "@jupyter-widgets/base",
            "_view_module_version": "1.2.0",
            "_view_name": "LayoutView",
            "align_content": null,
            "align_items": null,
            "align_self": null,
            "border": null,
            "bottom": null,
            "display": null,
            "flex": null,
            "flex_flow": null,
            "grid_area": null,
            "grid_auto_columns": null,
            "grid_auto_flow": null,
            "grid_auto_rows": null,
            "grid_column": null,
            "grid_gap": null,
            "grid_row": null,
            "grid_template_areas": null,
            "grid_template_columns": null,
            "grid_template_rows": null,
            "height": null,
            "justify_content": null,
            "justify_items": null,
            "left": null,
            "margin": null,
            "max_height": null,
            "max_width": null,
            "min_height": null,
            "min_width": null,
            "object_fit": null,
            "object_position": null,
            "order": null,
            "overflow": null,
            "overflow_x": null,
            "overflow_y": null,
            "padding": null,
            "right": null,
            "top": null,
            "visibility": null,
            "width": null
          }
        },
        "e53a9c5f41ab457e9bf43c2bdb4886d3": {
          "model_module": "@jupyter-widgets/controls",
          "model_name": "DescriptionStyleModel",
          "model_module_version": "1.5.0",
          "state": {
            "_model_module": "@jupyter-widgets/controls",
            "_model_module_version": "1.5.0",
            "_model_name": "DescriptionStyleModel",
            "_view_count": null,
            "_view_module": "@jupyter-widgets/base",
            "_view_module_version": "1.2.0",
            "_view_name": "StyleView",
            "description_width": ""
          }
        },
        "20832c89323f42e99bbe65fdf049c06c": {
          "model_module": "@jupyter-widgets/base",
          "model_name": "LayoutModel",
          "model_module_version": "1.2.0",
          "state": {
            "_model_module": "@jupyter-widgets/base",
            "_model_module_version": "1.2.0",
            "_model_name": "LayoutModel",
            "_view_count": null,
            "_view_module": "@jupyter-widgets/base",
            "_view_module_version": "1.2.0",
            "_view_name": "LayoutView",
            "align_content": null,
            "align_items": null,
            "align_self": null,
            "border": null,
            "bottom": null,
            "display": null,
            "flex": null,
            "flex_flow": null,
            "grid_area": null,
            "grid_auto_columns": null,
            "grid_auto_flow": null,
            "grid_auto_rows": null,
            "grid_column": null,
            "grid_gap": null,
            "grid_row": null,
            "grid_template_areas": null,
            "grid_template_columns": null,
            "grid_template_rows": null,
            "height": null,
            "justify_content": null,
            "justify_items": null,
            "left": null,
            "margin": null,
            "max_height": null,
            "max_width": null,
            "min_height": null,
            "min_width": null,
            "object_fit": null,
            "object_position": null,
            "order": null,
            "overflow": null,
            "overflow_x": null,
            "overflow_y": null,
            "padding": null,
            "right": null,
            "top": null,
            "visibility": null,
            "width": "20px"
          }
        },
        "a616a121ed6648128cf9ae92f8153624": {
          "model_module": "@jupyter-widgets/controls",
          "model_name": "ProgressStyleModel",
          "model_module_version": "1.5.0",
          "state": {
            "_model_module": "@jupyter-widgets/controls",
            "_model_module_version": "1.5.0",
            "_model_name": "ProgressStyleModel",
            "_view_count": null,
            "_view_module": "@jupyter-widgets/base",
            "_view_module_version": "1.2.0",
            "_view_name": "StyleView",
            "bar_color": null,
            "description_width": ""
          }
        },
        "68a395fd524a4c38a2f2f6d9d96df094": {
          "model_module": "@jupyter-widgets/base",
          "model_name": "LayoutModel",
          "model_module_version": "1.2.0",
          "state": {
            "_model_module": "@jupyter-widgets/base",
            "_model_module_version": "1.2.0",
            "_model_name": "LayoutModel",
            "_view_count": null,
            "_view_module": "@jupyter-widgets/base",
            "_view_module_version": "1.2.0",
            "_view_name": "LayoutView",
            "align_content": null,
            "align_items": null,
            "align_self": null,
            "border": null,
            "bottom": null,
            "display": null,
            "flex": null,
            "flex_flow": null,
            "grid_area": null,
            "grid_auto_columns": null,
            "grid_auto_flow": null,
            "grid_auto_rows": null,
            "grid_column": null,
            "grid_gap": null,
            "grid_row": null,
            "grid_template_areas": null,
            "grid_template_columns": null,
            "grid_template_rows": null,
            "height": null,
            "justify_content": null,
            "justify_items": null,
            "left": null,
            "margin": null,
            "max_height": null,
            "max_width": null,
            "min_height": null,
            "min_width": null,
            "object_fit": null,
            "object_position": null,
            "order": null,
            "overflow": null,
            "overflow_x": null,
            "overflow_y": null,
            "padding": null,
            "right": null,
            "top": null,
            "visibility": null,
            "width": null
          }
        },
        "625c13e7484840f69ad037ae8baeabe5": {
          "model_module": "@jupyter-widgets/controls",
          "model_name": "DescriptionStyleModel",
          "model_module_version": "1.5.0",
          "state": {
            "_model_module": "@jupyter-widgets/controls",
            "_model_module_version": "1.5.0",
            "_model_name": "DescriptionStyleModel",
            "_view_count": null,
            "_view_module": "@jupyter-widgets/base",
            "_view_module_version": "1.2.0",
            "_view_name": "StyleView",
            "description_width": ""
          }
        },
        "e85d2ab0f73b4111bab87cceddc16812": {
          "model_module": "@jupyter-widgets/controls",
          "model_name": "HBoxModel",
          "model_module_version": "1.5.0",
          "state": {
            "_dom_classes": [],
            "_model_module": "@jupyter-widgets/controls",
            "_model_module_version": "1.5.0",
            "_model_name": "HBoxModel",
            "_view_count": null,
            "_view_module": "@jupyter-widgets/controls",
            "_view_module_version": "1.5.0",
            "_view_name": "HBoxView",
            "box_style": "",
            "children": [
              "IPY_MODEL_a36e07aba75d4bc591fe49c90901e700",
              "IPY_MODEL_6a26ec2b621e431f94287720f064a368",
              "IPY_MODEL_7b30d87c236d4b9292767b7d9f4fca61"
            ],
            "layout": "IPY_MODEL_1d0c114484a14d5389618d7c856ee691"
          }
        },
        "a36e07aba75d4bc591fe49c90901e700": {
          "model_module": "@jupyter-widgets/controls",
          "model_name": "HTMLModel",
          "model_module_version": "1.5.0",
          "state": {
            "_dom_classes": [],
            "_model_module": "@jupyter-widgets/controls",
            "_model_module_version": "1.5.0",
            "_model_name": "HTMLModel",
            "_view_count": null,
            "_view_module": "@jupyter-widgets/controls",
            "_view_module_version": "1.5.0",
            "_view_name": "HTMLView",
            "description": "",
            "description_tooltip": null,
            "layout": "IPY_MODEL_7c30311e64fb400494ecdd2c29d605cd",
            "placeholder": "​",
            "style": "IPY_MODEL_f16e199e32a646a9a3e668bab643a2ee",
            "value": "Generating validation split: "
          }
        },
        "6a26ec2b621e431f94287720f064a368": {
          "model_module": "@jupyter-widgets/controls",
          "model_name": "FloatProgressModel",
          "model_module_version": "1.5.0",
          "state": {
            "_dom_classes": [],
            "_model_module": "@jupyter-widgets/controls",
            "_model_module_version": "1.5.0",
            "_model_name": "FloatProgressModel",
            "_view_count": null,
            "_view_module": "@jupyter-widgets/controls",
            "_view_module_version": "1.5.0",
            "_view_name": "ProgressView",
            "bar_style": "success",
            "description": "",
            "description_tooltip": null,
            "layout": "IPY_MODEL_c6d68f0f0e874b2aaae9c13388396780",
            "max": 1,
            "min": 0,
            "orientation": "horizontal",
            "style": "IPY_MODEL_199104ef75af452494b1d35bbc20c489",
            "value": 1
          }
        },
        "7b30d87c236d4b9292767b7d9f4fca61": {
          "model_module": "@jupyter-widgets/controls",
          "model_name": "HTMLModel",
          "model_module_version": "1.5.0",
          "state": {
            "_dom_classes": [],
            "_model_module": "@jupyter-widgets/controls",
            "_model_module_version": "1.5.0",
            "_model_name": "HTMLModel",
            "_view_count": null,
            "_view_module": "@jupyter-widgets/controls",
            "_view_module_version": "1.5.0",
            "_view_name": "HTMLView",
            "description": "",
            "description_tooltip": null,
            "layout": "IPY_MODEL_24fca9ebdedd4dd7b92808da4a3a9961",
            "placeholder": "​",
            "style": "IPY_MODEL_bf010af9d1c84b79ab617ee068fbd175",
            "value": " 46/0 [00:00&lt;00:00, 1838.22 examples/s]"
          }
        },
        "1d0c114484a14d5389618d7c856ee691": {
          "model_module": "@jupyter-widgets/base",
          "model_name": "LayoutModel",
          "model_module_version": "1.2.0",
          "state": {
            "_model_module": "@jupyter-widgets/base",
            "_model_module_version": "1.2.0",
            "_model_name": "LayoutModel",
            "_view_count": null,
            "_view_module": "@jupyter-widgets/base",
            "_view_module_version": "1.2.0",
            "_view_name": "LayoutView",
            "align_content": null,
            "align_items": null,
            "align_self": null,
            "border": null,
            "bottom": null,
            "display": null,
            "flex": null,
            "flex_flow": null,
            "grid_area": null,
            "grid_auto_columns": null,
            "grid_auto_flow": null,
            "grid_auto_rows": null,
            "grid_column": null,
            "grid_gap": null,
            "grid_row": null,
            "grid_template_areas": null,
            "grid_template_columns": null,
            "grid_template_rows": null,
            "height": null,
            "justify_content": null,
            "justify_items": null,
            "left": null,
            "margin": null,
            "max_height": null,
            "max_width": null,
            "min_height": null,
            "min_width": null,
            "object_fit": null,
            "object_position": null,
            "order": null,
            "overflow": null,
            "overflow_x": null,
            "overflow_y": null,
            "padding": null,
            "right": null,
            "top": null,
            "visibility": null,
            "width": null
          }
        },
        "7c30311e64fb400494ecdd2c29d605cd": {
          "model_module": "@jupyter-widgets/base",
          "model_name": "LayoutModel",
          "model_module_version": "1.2.0",
          "state": {
            "_model_module": "@jupyter-widgets/base",
            "_model_module_version": "1.2.0",
            "_model_name": "LayoutModel",
            "_view_count": null,
            "_view_module": "@jupyter-widgets/base",
            "_view_module_version": "1.2.0",
            "_view_name": "LayoutView",
            "align_content": null,
            "align_items": null,
            "align_self": null,
            "border": null,
            "bottom": null,
            "display": null,
            "flex": null,
            "flex_flow": null,
            "grid_area": null,
            "grid_auto_columns": null,
            "grid_auto_flow": null,
            "grid_auto_rows": null,
            "grid_column": null,
            "grid_gap": null,
            "grid_row": null,
            "grid_template_areas": null,
            "grid_template_columns": null,
            "grid_template_rows": null,
            "height": null,
            "justify_content": null,
            "justify_items": null,
            "left": null,
            "margin": null,
            "max_height": null,
            "max_width": null,
            "min_height": null,
            "min_width": null,
            "object_fit": null,
            "object_position": null,
            "order": null,
            "overflow": null,
            "overflow_x": null,
            "overflow_y": null,
            "padding": null,
            "right": null,
            "top": null,
            "visibility": null,
            "width": null
          }
        },
        "f16e199e32a646a9a3e668bab643a2ee": {
          "model_module": "@jupyter-widgets/controls",
          "model_name": "DescriptionStyleModel",
          "model_module_version": "1.5.0",
          "state": {
            "_model_module": "@jupyter-widgets/controls",
            "_model_module_version": "1.5.0",
            "_model_name": "DescriptionStyleModel",
            "_view_count": null,
            "_view_module": "@jupyter-widgets/base",
            "_view_module_version": "1.2.0",
            "_view_name": "StyleView",
            "description_width": ""
          }
        },
        "c6d68f0f0e874b2aaae9c13388396780": {
          "model_module": "@jupyter-widgets/base",
          "model_name": "LayoutModel",
          "model_module_version": "1.2.0",
          "state": {
            "_model_module": "@jupyter-widgets/base",
            "_model_module_version": "1.2.0",
            "_model_name": "LayoutModel",
            "_view_count": null,
            "_view_module": "@jupyter-widgets/base",
            "_view_module_version": "1.2.0",
            "_view_name": "LayoutView",
            "align_content": null,
            "align_items": null,
            "align_self": null,
            "border": null,
            "bottom": null,
            "display": null,
            "flex": null,
            "flex_flow": null,
            "grid_area": null,
            "grid_auto_columns": null,
            "grid_auto_flow": null,
            "grid_auto_rows": null,
            "grid_column": null,
            "grid_gap": null,
            "grid_row": null,
            "grid_template_areas": null,
            "grid_template_columns": null,
            "grid_template_rows": null,
            "height": null,
            "justify_content": null,
            "justify_items": null,
            "left": null,
            "margin": null,
            "max_height": null,
            "max_width": null,
            "min_height": null,
            "min_width": null,
            "object_fit": null,
            "object_position": null,
            "order": null,
            "overflow": null,
            "overflow_x": null,
            "overflow_y": null,
            "padding": null,
            "right": null,
            "top": null,
            "visibility": null,
            "width": "20px"
          }
        },
        "199104ef75af452494b1d35bbc20c489": {
          "model_module": "@jupyter-widgets/controls",
          "model_name": "ProgressStyleModel",
          "model_module_version": "1.5.0",
          "state": {
            "_model_module": "@jupyter-widgets/controls",
            "_model_module_version": "1.5.0",
            "_model_name": "ProgressStyleModel",
            "_view_count": null,
            "_view_module": "@jupyter-widgets/base",
            "_view_module_version": "1.2.0",
            "_view_name": "StyleView",
            "bar_color": null,
            "description_width": ""
          }
        },
        "24fca9ebdedd4dd7b92808da4a3a9961": {
          "model_module": "@jupyter-widgets/base",
          "model_name": "LayoutModel",
          "model_module_version": "1.2.0",
          "state": {
            "_model_module": "@jupyter-widgets/base",
            "_model_module_version": "1.2.0",
            "_model_name": "LayoutModel",
            "_view_count": null,
            "_view_module": "@jupyter-widgets/base",
            "_view_module_version": "1.2.0",
            "_view_name": "LayoutView",
            "align_content": null,
            "align_items": null,
            "align_self": null,
            "border": null,
            "bottom": null,
            "display": null,
            "flex": null,
            "flex_flow": null,
            "grid_area": null,
            "grid_auto_columns": null,
            "grid_auto_flow": null,
            "grid_auto_rows": null,
            "grid_column": null,
            "grid_gap": null,
            "grid_row": null,
            "grid_template_areas": null,
            "grid_template_columns": null,
            "grid_template_rows": null,
            "height": null,
            "justify_content": null,
            "justify_items": null,
            "left": null,
            "margin": null,
            "max_height": null,
            "max_width": null,
            "min_height": null,
            "min_width": null,
            "object_fit": null,
            "object_position": null,
            "order": null,
            "overflow": null,
            "overflow_x": null,
            "overflow_y": null,
            "padding": null,
            "right": null,
            "top": null,
            "visibility": null,
            "width": null
          }
        },
        "bf010af9d1c84b79ab617ee068fbd175": {
          "model_module": "@jupyter-widgets/controls",
          "model_name": "DescriptionStyleModel",
          "model_module_version": "1.5.0",
          "state": {
            "_model_module": "@jupyter-widgets/controls",
            "_model_module_version": "1.5.0",
            "_model_name": "DescriptionStyleModel",
            "_view_count": null,
            "_view_module": "@jupyter-widgets/base",
            "_view_module_version": "1.2.0",
            "_view_name": "StyleView",
            "description_width": ""
          }
        },
        "ce7208e273774d63946380034a5b4e59": {
          "model_module": "@jupyter-widgets/controls",
          "model_name": "HBoxModel",
          "model_module_version": "1.5.0",
          "state": {
            "_dom_classes": [],
            "_model_module": "@jupyter-widgets/controls",
            "_model_module_version": "1.5.0",
            "_model_name": "HBoxModel",
            "_view_count": null,
            "_view_module": "@jupyter-widgets/controls",
            "_view_module_version": "1.5.0",
            "_view_name": "HBoxView",
            "box_style": "",
            "children": [
              "IPY_MODEL_ea9e2471afa142eeb2938f66e9a63dd7",
              "IPY_MODEL_c39b98a5b96d467d952d11fb2b7f1854",
              "IPY_MODEL_c3e52416490c44e5a5a49d9c4a4d642c"
            ],
            "layout": "IPY_MODEL_7a0a068612744cadbeff52e9f5e3ac02"
          }
        },
        "ea9e2471afa142eeb2938f66e9a63dd7": {
          "model_module": "@jupyter-widgets/controls",
          "model_name": "HTMLModel",
          "model_module_version": "1.5.0",
          "state": {
            "_dom_classes": [],
            "_model_module": "@jupyter-widgets/controls",
            "_model_module_version": "1.5.0",
            "_model_name": "HTMLModel",
            "_view_count": null,
            "_view_module": "@jupyter-widgets/controls",
            "_view_module_version": "1.5.0",
            "_view_name": "HTMLView",
            "description": "",
            "description_tooltip": null,
            "layout": "IPY_MODEL_ad6c071231fd4a7ba2f211c4f97f9516",
            "placeholder": "​",
            "style": "IPY_MODEL_3f1eec577e924b229e13e4c0b0657dc9",
            "value": "Map: 100%"
          }
        },
        "c39b98a5b96d467d952d11fb2b7f1854": {
          "model_module": "@jupyter-widgets/controls",
          "model_name": "FloatProgressModel",
          "model_module_version": "1.5.0",
          "state": {
            "_dom_classes": [],
            "_model_module": "@jupyter-widgets/controls",
            "_model_module_version": "1.5.0",
            "_model_name": "FloatProgressModel",
            "_view_count": null,
            "_view_module": "@jupyter-widgets/controls",
            "_view_module_version": "1.5.0",
            "_view_name": "ProgressView",
            "bar_style": "success",
            "description": "",
            "description_tooltip": null,
            "layout": "IPY_MODEL_550768ceebe1470fa959745f0ce97f7a",
            "max": 185,
            "min": 0,
            "orientation": "horizontal",
            "style": "IPY_MODEL_4dbaf221de40460fb46820f5701028b5",
            "value": 185
          }
        },
        "c3e52416490c44e5a5a49d9c4a4d642c": {
          "model_module": "@jupyter-widgets/controls",
          "model_name": "HTMLModel",
          "model_module_version": "1.5.0",
          "state": {
            "_dom_classes": [],
            "_model_module": "@jupyter-widgets/controls",
            "_model_module_version": "1.5.0",
            "_model_name": "HTMLModel",
            "_view_count": null,
            "_view_module": "@jupyter-widgets/controls",
            "_view_module_version": "1.5.0",
            "_view_name": "HTMLView",
            "description": "",
            "description_tooltip": null,
            "layout": "IPY_MODEL_7e03c43b5e3a479dad5e9a8c54e185f2",
            "placeholder": "​",
            "style": "IPY_MODEL_0a24f96729604c8f80414420a8cbbb68",
            "value": " 185/185 [00:00&lt;00:00, 616.85 examples/s]"
          }
        },
        "7a0a068612744cadbeff52e9f5e3ac02": {
          "model_module": "@jupyter-widgets/base",
          "model_name": "LayoutModel",
          "model_module_version": "1.2.0",
          "state": {
            "_model_module": "@jupyter-widgets/base",
            "_model_module_version": "1.2.0",
            "_model_name": "LayoutModel",
            "_view_count": null,
            "_view_module": "@jupyter-widgets/base",
            "_view_module_version": "1.2.0",
            "_view_name": "LayoutView",
            "align_content": null,
            "align_items": null,
            "align_self": null,
            "border": null,
            "bottom": null,
            "display": null,
            "flex": null,
            "flex_flow": null,
            "grid_area": null,
            "grid_auto_columns": null,
            "grid_auto_flow": null,
            "grid_auto_rows": null,
            "grid_column": null,
            "grid_gap": null,
            "grid_row": null,
            "grid_template_areas": null,
            "grid_template_columns": null,
            "grid_template_rows": null,
            "height": null,
            "justify_content": null,
            "justify_items": null,
            "left": null,
            "margin": null,
            "max_height": null,
            "max_width": null,
            "min_height": null,
            "min_width": null,
            "object_fit": null,
            "object_position": null,
            "order": null,
            "overflow": null,
            "overflow_x": null,
            "overflow_y": null,
            "padding": null,
            "right": null,
            "top": null,
            "visibility": null,
            "width": null
          }
        },
        "ad6c071231fd4a7ba2f211c4f97f9516": {
          "model_module": "@jupyter-widgets/base",
          "model_name": "LayoutModel",
          "model_module_version": "1.2.0",
          "state": {
            "_model_module": "@jupyter-widgets/base",
            "_model_module_version": "1.2.0",
            "_model_name": "LayoutModel",
            "_view_count": null,
            "_view_module": "@jupyter-widgets/base",
            "_view_module_version": "1.2.0",
            "_view_name": "LayoutView",
            "align_content": null,
            "align_items": null,
            "align_self": null,
            "border": null,
            "bottom": null,
            "display": null,
            "flex": null,
            "flex_flow": null,
            "grid_area": null,
            "grid_auto_columns": null,
            "grid_auto_flow": null,
            "grid_auto_rows": null,
            "grid_column": null,
            "grid_gap": null,
            "grid_row": null,
            "grid_template_areas": null,
            "grid_template_columns": null,
            "grid_template_rows": null,
            "height": null,
            "justify_content": null,
            "justify_items": null,
            "left": null,
            "margin": null,
            "max_height": null,
            "max_width": null,
            "min_height": null,
            "min_width": null,
            "object_fit": null,
            "object_position": null,
            "order": null,
            "overflow": null,
            "overflow_x": null,
            "overflow_y": null,
            "padding": null,
            "right": null,
            "top": null,
            "visibility": null,
            "width": null
          }
        },
        "3f1eec577e924b229e13e4c0b0657dc9": {
          "model_module": "@jupyter-widgets/controls",
          "model_name": "DescriptionStyleModel",
          "model_module_version": "1.5.0",
          "state": {
            "_model_module": "@jupyter-widgets/controls",
            "_model_module_version": "1.5.0",
            "_model_name": "DescriptionStyleModel",
            "_view_count": null,
            "_view_module": "@jupyter-widgets/base",
            "_view_module_version": "1.2.0",
            "_view_name": "StyleView",
            "description_width": ""
          }
        },
        "550768ceebe1470fa959745f0ce97f7a": {
          "model_module": "@jupyter-widgets/base",
          "model_name": "LayoutModel",
          "model_module_version": "1.2.0",
          "state": {
            "_model_module": "@jupyter-widgets/base",
            "_model_module_version": "1.2.0",
            "_model_name": "LayoutModel",
            "_view_count": null,
            "_view_module": "@jupyter-widgets/base",
            "_view_module_version": "1.2.0",
            "_view_name": "LayoutView",
            "align_content": null,
            "align_items": null,
            "align_self": null,
            "border": null,
            "bottom": null,
            "display": null,
            "flex": null,
            "flex_flow": null,
            "grid_area": null,
            "grid_auto_columns": null,
            "grid_auto_flow": null,
            "grid_auto_rows": null,
            "grid_column": null,
            "grid_gap": null,
            "grid_row": null,
            "grid_template_areas": null,
            "grid_template_columns": null,
            "grid_template_rows": null,
            "height": null,
            "justify_content": null,
            "justify_items": null,
            "left": null,
            "margin": null,
            "max_height": null,
            "max_width": null,
            "min_height": null,
            "min_width": null,
            "object_fit": null,
            "object_position": null,
            "order": null,
            "overflow": null,
            "overflow_x": null,
            "overflow_y": null,
            "padding": null,
            "right": null,
            "top": null,
            "visibility": null,
            "width": null
          }
        },
        "4dbaf221de40460fb46820f5701028b5": {
          "model_module": "@jupyter-widgets/controls",
          "model_name": "ProgressStyleModel",
          "model_module_version": "1.5.0",
          "state": {
            "_model_module": "@jupyter-widgets/controls",
            "_model_module_version": "1.5.0",
            "_model_name": "ProgressStyleModel",
            "_view_count": null,
            "_view_module": "@jupyter-widgets/base",
            "_view_module_version": "1.2.0",
            "_view_name": "StyleView",
            "bar_color": null,
            "description_width": ""
          }
        },
        "7e03c43b5e3a479dad5e9a8c54e185f2": {
          "model_module": "@jupyter-widgets/base",
          "model_name": "LayoutModel",
          "model_module_version": "1.2.0",
          "state": {
            "_model_module": "@jupyter-widgets/base",
            "_model_module_version": "1.2.0",
            "_model_name": "LayoutModel",
            "_view_count": null,
            "_view_module": "@jupyter-widgets/base",
            "_view_module_version": "1.2.0",
            "_view_name": "LayoutView",
            "align_content": null,
            "align_items": null,
            "align_self": null,
            "border": null,
            "bottom": null,
            "display": null,
            "flex": null,
            "flex_flow": null,
            "grid_area": null,
            "grid_auto_columns": null,
            "grid_auto_flow": null,
            "grid_auto_rows": null,
            "grid_column": null,
            "grid_gap": null,
            "grid_row": null,
            "grid_template_areas": null,
            "grid_template_columns": null,
            "grid_template_rows": null,
            "height": null,
            "justify_content": null,
            "justify_items": null,
            "left": null,
            "margin": null,
            "max_height": null,
            "max_width": null,
            "min_height": null,
            "min_width": null,
            "object_fit": null,
            "object_position": null,
            "order": null,
            "overflow": null,
            "overflow_x": null,
            "overflow_y": null,
            "padding": null,
            "right": null,
            "top": null,
            "visibility": null,
            "width": null
          }
        },
        "0a24f96729604c8f80414420a8cbbb68": {
          "model_module": "@jupyter-widgets/controls",
          "model_name": "DescriptionStyleModel",
          "model_module_version": "1.5.0",
          "state": {
            "_model_module": "@jupyter-widgets/controls",
            "_model_module_version": "1.5.0",
            "_model_name": "DescriptionStyleModel",
            "_view_count": null,
            "_view_module": "@jupyter-widgets/base",
            "_view_module_version": "1.2.0",
            "_view_name": "StyleView",
            "description_width": ""
          }
        },
        "08081a888fdc48098cca7eb051229f58": {
          "model_module": "@jupyter-widgets/controls",
          "model_name": "HBoxModel",
          "model_module_version": "1.5.0",
          "state": {
            "_dom_classes": [],
            "_model_module": "@jupyter-widgets/controls",
            "_model_module_version": "1.5.0",
            "_model_name": "HBoxModel",
            "_view_count": null,
            "_view_module": "@jupyter-widgets/controls",
            "_view_module_version": "1.5.0",
            "_view_name": "HBoxView",
            "box_style": "",
            "children": [
              "IPY_MODEL_f4f1face0ed34af28492f32541eab184",
              "IPY_MODEL_2f403a45ec324ab2baffdf6eea922a3e",
              "IPY_MODEL_0c152b228bd14da684940eaf31870074"
            ],
            "layout": "IPY_MODEL_0eaa57f92eb94df4bea9e743e63d109f"
          }
        },
        "f4f1face0ed34af28492f32541eab184": {
          "model_module": "@jupyter-widgets/controls",
          "model_name": "HTMLModel",
          "model_module_version": "1.5.0",
          "state": {
            "_dom_classes": [],
            "_model_module": "@jupyter-widgets/controls",
            "_model_module_version": "1.5.0",
            "_model_name": "HTMLModel",
            "_view_count": null,
            "_view_module": "@jupyter-widgets/controls",
            "_view_module_version": "1.5.0",
            "_view_name": "HTMLView",
            "description": "",
            "description_tooltip": null,
            "layout": "IPY_MODEL_7d55b04b522747bf9de928d3cec22783",
            "placeholder": "​",
            "style": "IPY_MODEL_85b2e462bfb8419c997eef4c64680602",
            "value": "Map: 100%"
          }
        },
        "2f403a45ec324ab2baffdf6eea922a3e": {
          "model_module": "@jupyter-widgets/controls",
          "model_name": "FloatProgressModel",
          "model_module_version": "1.5.0",
          "state": {
            "_dom_classes": [],
            "_model_module": "@jupyter-widgets/controls",
            "_model_module_version": "1.5.0",
            "_model_name": "FloatProgressModel",
            "_view_count": null,
            "_view_module": "@jupyter-widgets/controls",
            "_view_module_version": "1.5.0",
            "_view_name": "ProgressView",
            "bar_style": "success",
            "description": "",
            "description_tooltip": null,
            "layout": "IPY_MODEL_3a9405957e514502a4133bc9253d6e7a",
            "max": 46,
            "min": 0,
            "orientation": "horizontal",
            "style": "IPY_MODEL_07a0aac3d6594d44850e3dd4dcde7398",
            "value": 46
          }
        },
        "0c152b228bd14da684940eaf31870074": {
          "model_module": "@jupyter-widgets/controls",
          "model_name": "HTMLModel",
          "model_module_version": "1.5.0",
          "state": {
            "_dom_classes": [],
            "_model_module": "@jupyter-widgets/controls",
            "_model_module_version": "1.5.0",
            "_model_name": "HTMLModel",
            "_view_count": null,
            "_view_module": "@jupyter-widgets/controls",
            "_view_module_version": "1.5.0",
            "_view_name": "HTMLView",
            "description": "",
            "description_tooltip": null,
            "layout": "IPY_MODEL_d13f386c69c14e0bb3b83fa0b92eefb8",
            "placeholder": "​",
            "style": "IPY_MODEL_ddbe5f8e491d41bea9b50a16a2312b91",
            "value": " 46/46 [00:00&lt;00:00, 458.62 examples/s]"
          }
        },
        "0eaa57f92eb94df4bea9e743e63d109f": {
          "model_module": "@jupyter-widgets/base",
          "model_name": "LayoutModel",
          "model_module_version": "1.2.0",
          "state": {
            "_model_module": "@jupyter-widgets/base",
            "_model_module_version": "1.2.0",
            "_model_name": "LayoutModel",
            "_view_count": null,
            "_view_module": "@jupyter-widgets/base",
            "_view_module_version": "1.2.0",
            "_view_name": "LayoutView",
            "align_content": null,
            "align_items": null,
            "align_self": null,
            "border": null,
            "bottom": null,
            "display": null,
            "flex": null,
            "flex_flow": null,
            "grid_area": null,
            "grid_auto_columns": null,
            "grid_auto_flow": null,
            "grid_auto_rows": null,
            "grid_column": null,
            "grid_gap": null,
            "grid_row": null,
            "grid_template_areas": null,
            "grid_template_columns": null,
            "grid_template_rows": null,
            "height": null,
            "justify_content": null,
            "justify_items": null,
            "left": null,
            "margin": null,
            "max_height": null,
            "max_width": null,
            "min_height": null,
            "min_width": null,
            "object_fit": null,
            "object_position": null,
            "order": null,
            "overflow": null,
            "overflow_x": null,
            "overflow_y": null,
            "padding": null,
            "right": null,
            "top": null,
            "visibility": null,
            "width": null
          }
        },
        "7d55b04b522747bf9de928d3cec22783": {
          "model_module": "@jupyter-widgets/base",
          "model_name": "LayoutModel",
          "model_module_version": "1.2.0",
          "state": {
            "_model_module": "@jupyter-widgets/base",
            "_model_module_version": "1.2.0",
            "_model_name": "LayoutModel",
            "_view_count": null,
            "_view_module": "@jupyter-widgets/base",
            "_view_module_version": "1.2.0",
            "_view_name": "LayoutView",
            "align_content": null,
            "align_items": null,
            "align_self": null,
            "border": null,
            "bottom": null,
            "display": null,
            "flex": null,
            "flex_flow": null,
            "grid_area": null,
            "grid_auto_columns": null,
            "grid_auto_flow": null,
            "grid_auto_rows": null,
            "grid_column": null,
            "grid_gap": null,
            "grid_row": null,
            "grid_template_areas": null,
            "grid_template_columns": null,
            "grid_template_rows": null,
            "height": null,
            "justify_content": null,
            "justify_items": null,
            "left": null,
            "margin": null,
            "max_height": null,
            "max_width": null,
            "min_height": null,
            "min_width": null,
            "object_fit": null,
            "object_position": null,
            "order": null,
            "overflow": null,
            "overflow_x": null,
            "overflow_y": null,
            "padding": null,
            "right": null,
            "top": null,
            "visibility": null,
            "width": null
          }
        },
        "85b2e462bfb8419c997eef4c64680602": {
          "model_module": "@jupyter-widgets/controls",
          "model_name": "DescriptionStyleModel",
          "model_module_version": "1.5.0",
          "state": {
            "_model_module": "@jupyter-widgets/controls",
            "_model_module_version": "1.5.0",
            "_model_name": "DescriptionStyleModel",
            "_view_count": null,
            "_view_module": "@jupyter-widgets/base",
            "_view_module_version": "1.2.0",
            "_view_name": "StyleView",
            "description_width": ""
          }
        },
        "3a9405957e514502a4133bc9253d6e7a": {
          "model_module": "@jupyter-widgets/base",
          "model_name": "LayoutModel",
          "model_module_version": "1.2.0",
          "state": {
            "_model_module": "@jupyter-widgets/base",
            "_model_module_version": "1.2.0",
            "_model_name": "LayoutModel",
            "_view_count": null,
            "_view_module": "@jupyter-widgets/base",
            "_view_module_version": "1.2.0",
            "_view_name": "LayoutView",
            "align_content": null,
            "align_items": null,
            "align_self": null,
            "border": null,
            "bottom": null,
            "display": null,
            "flex": null,
            "flex_flow": null,
            "grid_area": null,
            "grid_auto_columns": null,
            "grid_auto_flow": null,
            "grid_auto_rows": null,
            "grid_column": null,
            "grid_gap": null,
            "grid_row": null,
            "grid_template_areas": null,
            "grid_template_columns": null,
            "grid_template_rows": null,
            "height": null,
            "justify_content": null,
            "justify_items": null,
            "left": null,
            "margin": null,
            "max_height": null,
            "max_width": null,
            "min_height": null,
            "min_width": null,
            "object_fit": null,
            "object_position": null,
            "order": null,
            "overflow": null,
            "overflow_x": null,
            "overflow_y": null,
            "padding": null,
            "right": null,
            "top": null,
            "visibility": null,
            "width": null
          }
        },
        "07a0aac3d6594d44850e3dd4dcde7398": {
          "model_module": "@jupyter-widgets/controls",
          "model_name": "ProgressStyleModel",
          "model_module_version": "1.5.0",
          "state": {
            "_model_module": "@jupyter-widgets/controls",
            "_model_module_version": "1.5.0",
            "_model_name": "ProgressStyleModel",
            "_view_count": null,
            "_view_module": "@jupyter-widgets/base",
            "_view_module_version": "1.2.0",
            "_view_name": "StyleView",
            "bar_color": null,
            "description_width": ""
          }
        },
        "d13f386c69c14e0bb3b83fa0b92eefb8": {
          "model_module": "@jupyter-widgets/base",
          "model_name": "LayoutModel",
          "model_module_version": "1.2.0",
          "state": {
            "_model_module": "@jupyter-widgets/base",
            "_model_module_version": "1.2.0",
            "_model_name": "LayoutModel",
            "_view_count": null,
            "_view_module": "@jupyter-widgets/base",
            "_view_module_version": "1.2.0",
            "_view_name": "LayoutView",
            "align_content": null,
            "align_items": null,
            "align_self": null,
            "border": null,
            "bottom": null,
            "display": null,
            "flex": null,
            "flex_flow": null,
            "grid_area": null,
            "grid_auto_columns": null,
            "grid_auto_flow": null,
            "grid_auto_rows": null,
            "grid_column": null,
            "grid_gap": null,
            "grid_row": null,
            "grid_template_areas": null,
            "grid_template_columns": null,
            "grid_template_rows": null,
            "height": null,
            "justify_content": null,
            "justify_items": null,
            "left": null,
            "margin": null,
            "max_height": null,
            "max_width": null,
            "min_height": null,
            "min_width": null,
            "object_fit": null,
            "object_position": null,
            "order": null,
            "overflow": null,
            "overflow_x": null,
            "overflow_y": null,
            "padding": null,
            "right": null,
            "top": null,
            "visibility": null,
            "width": null
          }
        },
        "ddbe5f8e491d41bea9b50a16a2312b91": {
          "model_module": "@jupyter-widgets/controls",
          "model_name": "DescriptionStyleModel",
          "model_module_version": "1.5.0",
          "state": {
            "_model_module": "@jupyter-widgets/controls",
            "_model_module_version": "1.5.0",
            "_model_name": "DescriptionStyleModel",
            "_view_count": null,
            "_view_module": "@jupyter-widgets/base",
            "_view_module_version": "1.2.0",
            "_view_name": "StyleView",
            "description_width": ""
          }
        }
      }
    }
  },
  "cells": [
    {
      "cell_type": "markdown",
      "metadata": {
        "id": "view-in-github",
        "colab_type": "text"
      },
      "source": [
        "<a href=\"https://colab.research.google.com/github/desankha88/desankha88/blob/main/M4_AST_01_Finetune_GPT2_A.ipynb\" target=\"_parent\"><img src=\"https://colab.research.google.com/assets/colab-badge.svg\" alt=\"Open In Colab\"/></a>"
      ]
    },
    {
      "cell_type": "markdown",
      "metadata": {
        "id": "hNgLag1Euy3H"
      },
      "source": [
        "# Advanced Certification Programme in AI and MLOps\n",
        "## A Program by IISc and TalentSprint\n",
        "### Assignment 1: Fine-tune GPT2"
      ]
    },
    {
      "cell_type": "markdown",
      "metadata": {
        "id": "-tdtrlAhvIHY"
      },
      "source": [
        "## Learning Objectives\n",
        "\n",
        "At the end of the experiment, you will be able to:\n",
        "\n",
        "* load and pre-process data from text file\n",
        "* load and use a pre-trained tokenizer\n",
        "* finetune a GPT-2 language model from Hugging Face's `transformers` library\n",
        "* push the finetuned model to HuggingFace model hub\n",
        "* load the finetuned model from hub for inference"
      ]
    },
    {
      "cell_type": "markdown",
      "source": [
        "## Dataset Description\n",
        "\n",
        "The text data file is taken from The International Gita Society's eBook named \"***BHAGAVAD-GITA*** Author: Sage Veda Vyasa\", Translated in English by Ramananda Prasad, refer [here](https://www.gita-society.com/Read-bhagavad-gita.html).\n",
        "\n",
        "It contains:\n",
        "\n",
        "* the concept of duty and the moral implications of one's actions\n",
        "\n",
        "* the importance of performing one's duty without attachment to the results\n",
        "\n",
        "* various teachings, including the importance of performing one's duty according to one's station in life, the nature of the self, and the ultimate purpose of life\n",
        "\n",
        "* guidance on how to live a righteous life, manage one's emotions, and make ethical decisions\n",
        "\n",
        "* insights into achieving spiritual enlightenment and understanding one's true nature beyond the physical body\n",
        "\n",
        "The text data is inside **`document.pdf`** and will be downloaded once the below setup cells are executed."
      ],
      "metadata": {
        "id": "2nmP8OaXuO--"
      }
    },
    {
      "cell_type": "markdown",
      "source": [
        "### **GPT-2**\n",
        "\n",
        "In recent years, the OpenAI GPT-2 exhibited an impressive ability to write coherent and passionate essays that exceeded what current language models can produce. The GPT-2 wasn't a particularly novel architecture - its architecture is very similar to the **decoder-only transformer**. The GPT2 was, however, a very large, transformer-based language model trained on a massive dataset.\n",
        "\n",
        "Here, we are going to fine-tune the GPT2 model with the text of International Gita Society's eBook - BHAGAVAD-GITA. We can expect that the model will be able to reply to the prompt related to the subject matter of this book after fine-tuning.\n",
        "\n",
        "To know more about GPT-2, refer [here](http://jalammar.github.io/illustrated-gpt2/)."
      ],
      "metadata": {
        "id": "hK3ZixaWfhHD"
      }
    },
    {
      "cell_type": "markdown",
      "source": [
        "### Installing Dependencies"
      ],
      "metadata": {
        "id": "dIdI8V0_edy6"
      }
    },
    {
      "cell_type": "code",
      "source": [
        "%%capture\n",
        "\n",
        "# For loading models, tokenizers, and datasets from HuggingFace\n",
        "!pip -q uninstall pyarrow -y\n",
        "!pip -q install pyarrow==15.0.2\n",
        "!pip -q install datasets\n",
        "!pip -q install accelerate\n",
        "!pip -q install transformers\n",
        "\n",
        "# For reading text from PDF files\n",
        "!pip -q install PyPDF2"
      ],
      "metadata": {
        "id": "C2ZtQKF5edGU"
      },
      "execution_count": 1,
      "outputs": []
    },
    {
      "cell_type": "markdown",
      "source": [
        "### <font color=\"#990000\">Restart Session/Runtime</font>"
      ],
      "metadata": {
        "id": "E29JLGDPe_xa"
      }
    },
    {
      "cell_type": "markdown",
      "metadata": {
        "id": "BNLA8HiKxQhc"
      },
      "source": [
        "### Setup Steps:"
      ]
    },
    {
      "cell_type": "code",
      "execution_count": 2,
      "metadata": {
        "id": "2YzfoPvJDiTX"
      },
      "outputs": [],
      "source": [
        "#@title Please enter your registration id to start: { run: \"auto\", display-mode: \"form\" }\n",
        "Id = \"2418160\" #@param {type:\"string\"}"
      ]
    },
    {
      "cell_type": "code",
      "execution_count": 3,
      "metadata": {
        "id": "AjoZJWGErxGf"
      },
      "outputs": [],
      "source": [
        "#@title Please enter your password (your registered phone number) to continue: { run: \"auto\", display-mode: \"form\" }\n",
        "password = \"7795047882\" #@param {type:\"string\"}"
      ]
    },
    {
      "cell_type": "code",
      "execution_count": 4,
      "metadata": {
        "cellView": "form",
        "id": "WBPPuGmBlDIN",
        "colab": {
          "base_uri": "https://localhost:8080/",
          "height": 34
        },
        "collapsed": true,
        "outputId": "de43eb84-f800-44e5-fa9e-c0654c2132d7"
      },
      "outputs": [
        {
          "output_type": "display_data",
          "data": {
            "text/plain": [
              "<IPython.core.display.HTML object>"
            ],
            "text/html": [
              "<script src=\"https://dashboard.talentsprint.com/aiml/record_ip.html?traineeId=2418160&recordId=4525\"></script>"
            ]
          },
          "metadata": {}
        },
        {
          "output_type": "stream",
          "name": "stdout",
          "text": [
            "Setup completed successfully\n"
          ]
        }
      ],
      "source": [
        "#@title Run this cell to complete the setup for this Notebook\n",
        "from IPython import get_ipython\n",
        "\n",
        "ipython = get_ipython()\n",
        "\n",
        "notebook= \"M4_AST_01_Finetune_GPT2_A\" #name of the notebook\n",
        "\n",
        "def setup():\n",
        "#  ipython.magic(\"sx pip3 install torch\")\n",
        "\n",
        "    ipython.magic(\"sx wget https://drive.google.com/uc?id=12jYBY0yqwNEErkqol06BtEQF3C-wSUBS -O document.pdf\")\n",
        "    from IPython.display import HTML, display\n",
        "    display(HTML('<script src=\"https://dashboard.talentsprint.com/aiml/record_ip.html?traineeId={0}&recordId={1}\"></script>'.format(getId(),submission_id)))\n",
        "    print(\"Setup completed successfully\")\n",
        "    return\n",
        "\n",
        "def submit_notebook():\n",
        "    ipython.magic(\"notebook -e \"+ notebook + \".ipynb\")\n",
        "\n",
        "    import requests, json, base64, datetime\n",
        "\n",
        "    url = \"https://dashboard.talentsprint.com/xp/app/save_notebook_attempts\"\n",
        "    if not submission_id:\n",
        "      data = {\"id\" : getId(), \"notebook\" : notebook, \"mobile\" : getPassword()}\n",
        "      r = requests.post(url, data = data)\n",
        "      r = json.loads(r.text)\n",
        "\n",
        "      if r[\"status\"] == \"Success\":\n",
        "          return r[\"record_id\"]\n",
        "      elif \"err\" in r:\n",
        "        print(r[\"err\"])\n",
        "        return None\n",
        "      else:\n",
        "        print (\"Something is wrong, the notebook will not be submitted for grading\")\n",
        "        return None\n",
        "\n",
        "    elif getAnswer() and getComplexity() and getAdditional() and getConcepts() and getComments() and getMentorSupport():\n",
        "      f = open(notebook + \".ipynb\", \"rb\")\n",
        "      file_hash = base64.b64encode(f.read())\n",
        "\n",
        "      data = {\"complexity\" : Complexity, \"additional\" :Additional,\n",
        "              \"concepts\" : Concepts, \"record_id\" : submission_id,\n",
        "              \"answer\" : Answer, \"id\" : Id, \"file_hash\" : file_hash,\n",
        "              \"notebook\" : notebook,\n",
        "              \"feedback_experiments_input\" : Comments,\n",
        "              \"feedback_mentor_support\": Mentor_support}\n",
        "      r = requests.post(url, data = data)\n",
        "      r = json.loads(r.text)\n",
        "      if \"err\" in r:\n",
        "        print(r[\"err\"])\n",
        "        return None\n",
        "      else:\n",
        "        print(\"Your submission is successful.\")\n",
        "        print(\"Ref Id:\", submission_id)\n",
        "        print(\"Date of submission: \", r[\"date\"])\n",
        "        print(\"Time of submission: \", r[\"time\"])\n",
        "        print(\"View your submissions: https://aimlops-iisc.talentsprint.com/notebook_submissions\")\n",
        "        #print(\"For any queries/discrepancies, please connect with mentors through the chat icon in LMS dashboard.\")\n",
        "        return submission_id\n",
        "    else: submission_id\n",
        "\n",
        "\n",
        "def getAdditional():\n",
        "  try:\n",
        "    if not Additional:\n",
        "      raise NameError\n",
        "    else:\n",
        "      return Additional\n",
        "  except NameError:\n",
        "    print (\"Please answer Additional Question\")\n",
        "    return None\n",
        "\n",
        "def getComplexity():\n",
        "  try:\n",
        "    if not Complexity:\n",
        "      raise NameError\n",
        "    else:\n",
        "      return Complexity\n",
        "  except NameError:\n",
        "    print (\"Please answer Complexity Question\")\n",
        "    return None\n",
        "\n",
        "def getConcepts():\n",
        "  try:\n",
        "    if not Concepts:\n",
        "      raise NameError\n",
        "    else:\n",
        "      return Concepts\n",
        "  except NameError:\n",
        "    print (\"Please answer Concepts Question\")\n",
        "    return None\n",
        "\n",
        "\n",
        "# def getWalkthrough():\n",
        "#   try:\n",
        "#     if not Walkthrough:\n",
        "#       raise NameError\n",
        "#     else:\n",
        "#       return Walkthrough\n",
        "#   except NameError:\n",
        "#     print (\"Please answer Walkthrough Question\")\n",
        "#     return None\n",
        "\n",
        "def getComments():\n",
        "  try:\n",
        "    if not Comments:\n",
        "      raise NameError\n",
        "    else:\n",
        "      return Comments\n",
        "  except NameError:\n",
        "    print (\"Please answer Comments Question\")\n",
        "    return None\n",
        "\n",
        "\n",
        "def getMentorSupport():\n",
        "  try:\n",
        "    if not Mentor_support:\n",
        "      raise NameError\n",
        "    else:\n",
        "      return Mentor_support\n",
        "  except NameError:\n",
        "    print (\"Please answer Mentor support Question\")\n",
        "    return None\n",
        "\n",
        "def getAnswer():\n",
        "  try:\n",
        "    if not Answer:\n",
        "      raise NameError\n",
        "    else:\n",
        "      return Answer\n",
        "  except NameError:\n",
        "    print (\"Please answer Question\")\n",
        "    return None\n",
        "\n",
        "\n",
        "def getId():\n",
        "  try:\n",
        "    return Id if Id else None\n",
        "  except NameError:\n",
        "    return None\n",
        "\n",
        "def getPassword():\n",
        "  try:\n",
        "    return password if password else None\n",
        "  except NameError:\n",
        "    return None\n",
        "\n",
        "submission_id = None\n",
        "### Setup\n",
        "if getPassword() and getId():\n",
        "  submission_id = submit_notebook()\n",
        "  if submission_id:\n",
        "    setup()\n",
        "else:\n",
        "  print (\"Please complete Id and Password cells before running setup\")\n",
        "\n"
      ]
    },
    {
      "cell_type": "markdown",
      "metadata": {
        "id": "9RH8Ecq9sbYU"
      },
      "source": [
        "### Importing required packages"
      ]
    },
    {
      "cell_type": "code",
      "source": [
        "import os\n",
        "import re\n",
        "import PyPDF2\n",
        "import torch\n",
        "from datasets import load_dataset\n",
        "from transformers import GPT2Tokenizer, GPT2LMHeadModel, DataCollatorForLanguageModeling\n",
        "from transformers import Trainer, TrainingArguments\n",
        "\n",
        "import warnings\n",
        "warnings.filterwarnings('ignore')"
      ],
      "metadata": {
        "id": "JfqnHAnMYfWF"
      },
      "execution_count": 5,
      "outputs": []
    },
    {
      "cell_type": "markdown",
      "source": [
        "### Load the data"
      ],
      "metadata": {
        "id": "ChIKT30jKuo-"
      }
    },
    {
      "cell_type": "markdown",
      "source": [
        "The data is in a PDF file (.pdf)\n",
        "\n",
        "Create function to read pdf file:"
      ],
      "metadata": {
        "id": "a_Bn7925nhYk"
      }
    },
    {
      "cell_type": "code",
      "source": [
        "# Function to read document pdf files\n",
        "\n",
        "def read_pdf(pdf_path):\n",
        "    text = \"\"\n",
        "\n",
        "    # Open the PDF file\n",
        "    with open(pdf_path, \"rb\") as file:\n",
        "        reader = PyPDF2.PdfReader(file)\n",
        "\n",
        "        # Iterate over each page\n",
        "        for page_num in range(len(reader.pages)):\n",
        "            if page_num > 3:                         # extract text starting from page 5\n",
        "                page = reader.pages[page_num]\n",
        "                text += page.extract_text()\n",
        "\n",
        "    return text\n"
      ],
      "metadata": {
        "id": "ryR44tMnhRMX"
      },
      "execution_count": 6,
      "outputs": []
    },
    {
      "cell_type": "code",
      "source": [
        "# Read files/documents\n",
        "\n",
        "pdf_path = 'document.pdf'\n",
        "text_file = read_pdf(pdf_path)# YOUR CODE HERE to read text using file path"
      ],
      "metadata": {
        "id": "DuiQD165hSp9"
      },
      "execution_count": 18,
      "outputs": []
    },
    {
      "cell_type": "code",
      "source": [
        "print(text_file[:8000])"
      ],
      "metadata": {
        "id": "ycLbDPgDg5_2",
        "colab": {
          "base_uri": "https://localhost:8080/"
        },
        "outputId": "97d02db9-215b-448b-fa08-8b010e7ac61b"
      },
      "execution_count": 19,
      "outputs": [
        {
          "output_type": "stream",
          "name": "stdout",
          "text": [
            " \n",
            "  \n",
            " \n",
            "BHAGAVAD -GITA in ENGLISH  \n",
            "Author: Sage Veda Vy asa \n",
            "Translat ed in English : Ramananda Prasad , Ph.D.  \n",
            "Language Editor s: Needed  \n",
            "Contact: rprasad@gita -society.com  \n",
            "***** \n",
            "“Let noble thoughts come to us from everywhere”    \n",
            "(The Vedas)  \n",
            " \n",
            "INTRODUCTION  \n",
            "The Bhagavad -Gita is a doctrine of universal truth  and a book \n",
            "of moral and spiritual growth . Its message is sublime and non -sec-\n",
            "tarian . It deals with the most sacred metaphysi cal science. It im-\n",
            "parts the knowledge of the Self and answers two universal ques-\n",
            "tions: Who am I, and how can I lead a happy and peaceful life in \n",
            "this wor d full of dualities  and dilemmas ?  \n",
            "It's a timeless book of wisdom  that inspired Thoreau, Emerson, \n",
            "Einstein, Oppenheimer, Gandhi and many others. The Bhagavad -\n",
            "Gita teaches us how  to equip ourselves  for the battle of life. A re-\n",
            "peated study with faith purifies our psyche and guides us to face \n",
            "the challenges of modern livin g leading to inner peace and happi-\n",
            "ness.  \n",
            "Gita teaches the spiritual science of Self -realization  (SR) based \n",
            "on the essence of Upanishads and Vedanta. The prime message \n",
            "of the Gita is : The ultimate purpose of life is to realize one’s essen-\n",
            "tial nature and become one with the Supreme Self within  all of us . \n",
            "It assures spiritual progress for all humans, and ho w to be one with \n",
            "the Supreme. Its teachings are profound, universal, uplifting, and \n",
            "sublime.  \n",
            "The ignorance of metaphysical  or Spiritual  knowledge —not \n",
            "knowing our real identity —is humanity’s greatest predicament. It is \n",
            "said that there is no human mind that  cannot be purified by a re-\n",
            "peated study of the Gita. Gita explains the basic principles of spir-\n",
            "itual science — using Sanskrit poetry — in a very clear and inspiring \n",
            "manner. Sacred  relationship between the Creator and the creation  \n",
            "is well established in the G ita. If one lives in the spirit of even a few \n",
            "verses of the Gita, one’s life will be transformed into divinity.  \n",
            "The philosophy of duty, devotion and Self -knowledge is won-\n",
            "derfully synthesized and harmonized in the Gita —without creating \n",
            "any conflict among t hem—to give the reader eternal bliss, everlast-\n",
            "ing peace and perennial joy in life. It awakens Cosmic Conscious-\n",
            "ness and stimulates life with spirituality.  Religion tends to create a \n",
            "wall of division and conflicts along religious lines. Whereas, spirit-\n",
            "uality  unites people by breaking those walls. A spiritual person is a 2                           International Gita Society  \n",
            " \n",
            " friend of all and a foe of none, because he considers all crea-\n",
            "tures —living or non -living —as part and parcel of the Cosmic body \n",
            "of the Absolute , the Source . \n",
            "The message of the Gita came to huma nity due to  Arjuna’s \n",
            "unwill ingness to do his duty as a warrior , because fighting in volved \n",
            "destr uction and killing. Nonviolence or Ahi nsa is one of the most \n",
            "fundamen tal tenets of spiritual culture. All lives, human or non -hu-\n",
            "man, are sacred. This immortal discourse between the Supreme \n",
            "Lord, Krishna, and His devotee -friend, Arjuna, occurs not in a tem-\n",
            "ple, a secluded forest, or on a mountain top ; but on a battlefield on \n",
            "the eve of a big war. Anyone can be helped by practice of only a few of \n",
            "its teach ings. No change of one’s faith or life -style is needed ! \n",
            "A total of seven hundred (700) verses of the Gita, in 18 chap-\n",
            "ters, are recorded in world’s longest  epic, Mah abharata, having \n",
            "over 100,000 verses  in Sanskrit poetry . In Gita Lord Krishna ad-\n",
            "vises Arjuna  to get up and fight. This may create a misunderstand-\n",
            "ing of the prin ciples of non-violence  if the background of the war of \n",
            "Mahabharata is not kept in mind. Therefore, a brief historical de-\n",
            "scription is in order.  \n",
            " In ancient times there was a king who had t wo sons, Dhri-\n",
            "tarashtra and P andu. The former was born blind; therefore, P andu \n",
            "inherited the kingdom. P andu had five sons. They were called the \n",
            "Pandavas. Dhritar ashtra had one hundred sons. They were called \n",
            "the Kauravas. Duryodhana was the eldest of the Kauravas.  \n",
            " After the death of king P andu, the eldest son of P andu became \n",
            "the lawful King. Duryodhana was a very jealous person. He also \n",
            "wanted the king dom. The ki ngdom was divided into two halves be-\n",
            "tween the P andavas and the Kauravas.  Duryodhana was not sat-\n",
            "isfied with his share of the king dom. He wanted the entire kingdom \n",
            "for himself. He unsuccessfully planned several foul pl ays to kill the \n",
            "Pandavas and take away  their kingdom  also. He unlawfully took \n",
            "possession of the entire kingdom of the P andavas and refused to \n",
            "give back even an acre of land without a war. All mediation by Lord \n",
            "Krishna and others failed. The big war of Mah abharata was thus \n",
            "inevitable. The P andavas were unwilling par ticipants. They had \n",
            "only two choices: Fight for their right as a matter of duty or run \n",
            "away from war and accept defeat for the sake of peace and nonvi-\n",
            "olence. Arjuna, one of the five P andava brothers, faced th is di-\n",
            "lemma in the battle field: Whether to fight or run away from war  for \n",
            "peace.  \n",
            " Arjuna’s dilemma is, in reality, the Universal Dilemma. All hu-\n",
            "man beings face dilemmas, big or small, in their everyday life wh ile \n",
            "performing their duties. Arjuna’s dilemma was a big one. He had to \n",
            "make a choice between fighting the war and killing his most \n",
            "revered guru who was on the other side, very dear friends, close \n",
            "relatives, and many innocent warriors; or run ning away from the                     Bhagavad -Gita                             3 \n",
            " \n",
            " battlefield for the sake of preser ving peace and nonviolence. The \n",
            "entire seven hundred verses of the Bhagavad -Gita are a discourse \n",
            "between Lord Krishna and the confused Arjuna on the battlefield \n",
            "near New Delhi, India, in 3,139 BCE. This discourse was narrated  \n",
            "to the blind king, Dhritar ashtra, by his charioteer, Sanjaya, as an \n",
            "eyewitness war report.  \n",
            " The word ‘Bhagavad’ means the Supreme Being , God  or Bha-\n",
            "gavan in Sanskrit. ‘Gita’ means song. Thus , Bhagavad -Gita means \n",
            "the Song of God or The Celestial  Song, because it was sung by \n",
            "Bhagav an Lord Krishna , an incarnation of God  Himself.  \n",
            " \n",
            "CHAPTER 1  \n",
            "1. Arjuna’s Dilemma  \n",
            "The blind King inquired  from his charioteer : O Sanjaya, tell me \n",
            "in detail, what did my sons  and the P andavas do in the battlefield \n",
            "before the war started? (1.01)  \n",
            "Chapter Summary   \n",
            "Sanjaya said: Arjuna asked his charioteer -friend, Lord Krishna, \n",
            "to drive his chariot between the two armies so that he could see \n",
            "the arm ies on both sides . Arjuna felt great compas sion to see his \n",
            "friends and relatives on the opposite side, whom he must kill to win \n",
            "this war. He became confused, spoke of the evils of war, and re-\n",
            "fused to fight or do his duty  as a warrior .  \n",
            "Arjuna sat down on the back seat of the chariot with his mind \n",
            "overwhelmed with sorrow. ( Verse 1.47)  \n",
            " \n",
            "NOTE : Some non -essential verses from Chapters 1 and 2 only \n",
            "have been omitted for ease of understanding the teachings of the \n",
            "Gita by the first time readers.  \n",
            "CHAPTER 2 \n",
            "2. Spiritual  knowledge  \n",
            "Sanjaya said: Lord Krishna spoke these words to Arjuna whose \n",
            "eyes were tearful and downcast, and who was overwhelmed with \n",
            "compassion and despair. (2.01) O King, Lord Krishna, as if smiling, \n",
            "spoke these words to distressed Arjuna in the midst of the two ar-\n",
            "mies. (2.10)  \n",
            "Teachings of the Gita begins  \n",
            " Important verses are high lighted . First time readers should \n",
            "read and understand thes e verses first.  4                           International Gita Society  \n",
            " \n",
            " The Supreme Lord said: You grieve for those who are not wor-\n",
            "thy of grief; and yet speak words of wisdom. The wise grieve nei-\n",
            "ther for the living nor for the dead. (2.11) There was never a time \n",
            "when these monarchs, you, or I did not exist, nor shall we ever \n",
            "cease to exist in the future. (2.12) Just as a living being  acquires a \n",
            "childhood body, a youth body, and an old -age body during this life; \n",
            "similarly, it acquires another new body after death. The wise are \n",
            "not deluded by this. (\n"
          ]
        }
      ]
    },
    {
      "cell_type": "markdown",
      "source": [
        "### Pre-processing\n",
        "\n",
        "- Remove any excess newline characters from the text\n",
        "- Remove any excess spaces\n",
        "- Remove unnecessary words (Header & Page number)\n",
        "- Keep 100 words per line inside text"
      ],
      "metadata": {
        "id": "9ESwtGMaL5vJ"
      }
    },
    {
      "cell_type": "code",
      "source": [
        "# Remove excess newline characters\n",
        "\n",
        "# YOUR CODE HERE\n",
        "text_file = re.sub(r'\\n+', '\\n', text_file).strip()"
      ],
      "metadata": {
        "id": "4tYqGszOL-9f"
      },
      "execution_count": 20,
      "outputs": []
    },
    {
      "cell_type": "code",
      "source": [
        "# Remove excess spaces\n",
        "\n",
        "# YOUR CODE HERE\n",
        "text_file = re.sub(r' +', ' ', text_file).strip()"
      ],
      "metadata": {
        "id": "E4h2SRDCw17D"
      },
      "execution_count": 21,
      "outputs": []
    },
    {
      "cell_type": "code",
      "source": [
        "# Remove unnecessary words (Header & Page number)\n",
        "text_file = re.sub(r' \\d+ International Gita Society', '', text_file)\n",
        "text_file = re.sub(r' Bhagavad -Gita \\d+', '', text_file)"
      ],
      "metadata": {
        "id": "IfcxGAKc0S13"
      },
      "execution_count": 22,
      "outputs": []
    },
    {
      "cell_type": "code",
      "source": [
        "print(text_file[:8000])"
      ],
      "metadata": {
        "id": "ZleqLz-jdYU2",
        "collapsed": true,
        "colab": {
          "base_uri": "https://localhost:8080/"
        },
        "outputId": "1697c57b-c69e-435a-b22d-b91743707378"
      },
      "execution_count": 23,
      "outputs": [
        {
          "output_type": "stream",
          "name": "stdout",
          "text": [
            "BHAGAVAD -GITA in ENGLISH \n",
            "Author: Sage Veda Vy asa \n",
            "Translat ed in English : Ramananda Prasad , Ph.D. \n",
            "Language Editor s: Needed \n",
            "Contact: rprasad@gita -society.com \n",
            "***** \n",
            "“Let noble thoughts come to us from everywhere” \n",
            "(The Vedas) \n",
            " \n",
            "INTRODUCTION \n",
            "The Bhagavad -Gita is a doctrine of universal truth and a book \n",
            "of moral and spiritual growth . Its message is sublime and non -sec-\n",
            "tarian . It deals with the most sacred metaphysi cal science. It im-\n",
            "parts the knowledge of the Self and answers two universal ques-\n",
            "tions: Who am I, and how can I lead a happy and peaceful life in \n",
            "this wor d full of dualities and dilemmas ? \n",
            "It's a timeless book of wisdom that inspired Thoreau, Emerson, \n",
            "Einstein, Oppenheimer, Gandhi and many others. The Bhagavad -\n",
            "Gita teaches us how to equip ourselves for the battle of life. A re-\n",
            "peated study with faith purifies our psyche and guides us to face \n",
            "the challenges of modern livin g leading to inner peace and happi-\n",
            "ness. \n",
            "Gita teaches the spiritual science of Self -realization (SR) based \n",
            "on the essence of Upanishads and Vedanta. The prime message \n",
            "of the Gita is : The ultimate purpose of life is to realize one’s essen-\n",
            "tial nature and become one with the Supreme Self within all of us . \n",
            "It assures spiritual progress for all humans, and ho w to be one with \n",
            "the Supreme. Its teachings are profound, universal, uplifting, and \n",
            "sublime. \n",
            "The ignorance of metaphysical or Spiritual knowledge —not \n",
            "knowing our real identity —is humanity’s greatest predicament. It is \n",
            "said that there is no human mind that cannot be purified by a re-\n",
            "peated study of the Gita. Gita explains the basic principles of spir-\n",
            "itual science — using Sanskrit poetry — in a very clear and inspiring \n",
            "manner. Sacred relationship between the Creator and the creation \n",
            "is well established in the G ita. If one lives in the spirit of even a few \n",
            "verses of the Gita, one’s life will be transformed into divinity. \n",
            "The philosophy of duty, devotion and Self -knowledge is won-\n",
            "derfully synthesized and harmonized in the Gita —without creating \n",
            "any conflict among t hem—to give the reader eternal bliss, everlast-\n",
            "ing peace and perennial joy in life. It awakens Cosmic Conscious-\n",
            "ness and stimulates life with spirituality. Religion tends to create a \n",
            "wall of division and conflicts along religious lines. Whereas, spirit-\n",
            "uality unites people by breaking those walls. A spiritual person is a \n",
            " \n",
            " friend of all and a foe of none, because he considers all crea-\n",
            "tures —living or non -living —as part and parcel of the Cosmic body \n",
            "of the Absolute , the Source . \n",
            "The message of the Gita came to huma nity due to Arjuna’s \n",
            "unwill ingness to do his duty as a warrior , because fighting in volved \n",
            "destr uction and killing. Nonviolence or Ahi nsa is one of the most \n",
            "fundamen tal tenets of spiritual culture. All lives, human or non -hu-\n",
            "man, are sacred. This immortal discourse between the Supreme \n",
            "Lord, Krishna, and His devotee -friend, Arjuna, occurs not in a tem-\n",
            "ple, a secluded forest, or on a mountain top ; but on a battlefield on \n",
            "the eve of a big war. Anyone can be helped by practice of only a few of \n",
            "its teach ings. No change of one’s faith or life -style is needed ! \n",
            "A total of seven hundred (700) verses of the Gita, in 18 chap-\n",
            "ters, are recorded in world’s longest epic, Mah abharata, having \n",
            "over 100,000 verses in Sanskrit poetry . In Gita Lord Krishna ad-\n",
            "vises Arjuna to get up and fight. This may create a misunderstand-\n",
            "ing of the prin ciples of non-violence if the background of the war of \n",
            "Mahabharata is not kept in mind. Therefore, a brief historical de-\n",
            "scription is in order. \n",
            " In ancient times there was a king who had t wo sons, Dhri-\n",
            "tarashtra and P andu. The former was born blind; therefore, P andu \n",
            "inherited the kingdom. P andu had five sons. They were called the \n",
            "Pandavas. Dhritar ashtra had one hundred sons. They were called \n",
            "the Kauravas. Duryodhana was the eldest of the Kauravas. \n",
            " After the death of king P andu, the eldest son of P andu became \n",
            "the lawful King. Duryodhana was a very jealous person. He also \n",
            "wanted the king dom. The ki ngdom was divided into two halves be-\n",
            "tween the P andavas and the Kauravas. Duryodhana was not sat-\n",
            "isfied with his share of the king dom. He wanted the entire kingdom \n",
            "for himself. He unsuccessfully planned several foul pl ays to kill the \n",
            "Pandavas and take away their kingdom also. He unlawfully took \n",
            "possession of the entire kingdom of the P andavas and refused to \n",
            "give back even an acre of land without a war. All mediation by Lord \n",
            "Krishna and others failed. The big war of Mah abharata was thus \n",
            "inevitable. The P andavas were unwilling par ticipants. They had \n",
            "only two choices: Fight for their right as a matter of duty or run \n",
            "away from war and accept defeat for the sake of peace and nonvi-\n",
            "olence. Arjuna, one of the five P andava brothers, faced th is di-\n",
            "lemma in the battle field: Whether to fight or run away from war for \n",
            "peace. \n",
            " Arjuna’s dilemma is, in reality, the Universal Dilemma. All hu-\n",
            "man beings face dilemmas, big or small, in their everyday life wh ile \n",
            "performing their duties. Arjuna’s dilemma was a big one. He had to \n",
            "make a choice between fighting the war and killing his most \n",
            "revered guru who was on the other side, very dear friends, close \n",
            "relatives, and many innocent warriors; or run ning away from the \n",
            " \n",
            " battlefield for the sake of preser ving peace and nonviolence. The \n",
            "entire seven hundred verses of the Bhagavad -Gita are a discourse \n",
            "between Lord Krishna and the confused Arjuna on the battlefield \n",
            "near New Delhi, India, in 3,139 BCE. This discourse was narrated \n",
            "to the blind king, Dhritar ashtra, by his charioteer, Sanjaya, as an \n",
            "eyewitness war report. \n",
            " The word ‘Bhagavad’ means the Supreme Being , God or Bha-\n",
            "gavan in Sanskrit. ‘Gita’ means song. Thus , Bhagavad -Gita means \n",
            "the Song of God or The Celestial Song, because it was sung by \n",
            "Bhagav an Lord Krishna , an incarnation of God Himself. \n",
            " \n",
            "CHAPTER 1 \n",
            "1. Arjuna’s Dilemma \n",
            "The blind King inquired from his charioteer : O Sanjaya, tell me \n",
            "in detail, what did my sons and the P andavas do in the battlefield \n",
            "before the war started? (1.01) \n",
            "Chapter Summary \n",
            "Sanjaya said: Arjuna asked his charioteer -friend, Lord Krishna, \n",
            "to drive his chariot between the two armies so that he could see \n",
            "the arm ies on both sides . Arjuna felt great compas sion to see his \n",
            "friends and relatives on the opposite side, whom he must kill to win \n",
            "this war. He became confused, spoke of the evils of war, and re-\n",
            "fused to fight or do his duty as a warrior . \n",
            "Arjuna sat down on the back seat of the chariot with his mind \n",
            "overwhelmed with sorrow. ( Verse 1.47) \n",
            " \n",
            "NOTE : Some non -essential verses from Chapters 1 and 2 only \n",
            "have been omitted for ease of understanding the teachings of the \n",
            "Gita by the first time readers. \n",
            "CHAPTER 2 \n",
            "2. Spiritual knowledge \n",
            "Sanjaya said: Lord Krishna spoke these words to Arjuna whose \n",
            "eyes were tearful and downcast, and who was overwhelmed with \n",
            "compassion and despair. (2.01) O King, Lord Krishna, as if smiling, \n",
            "spoke these words to distressed Arjuna in the midst of the two ar-\n",
            "mies. (2.10) \n",
            "Teachings of the Gita begins \n",
            " Important verses are high lighted . First time readers should \n",
            "read and understand thes e verses first. \n",
            " \n",
            " The Supreme Lord said: You grieve for those who are not wor-\n",
            "thy of grief; and yet speak words of wisdom. The wise grieve nei-\n",
            "ther for the living nor for the dead. (2.11) There was never a time \n",
            "when these monarchs, you, or I did not exist, nor shall we ever \n",
            "cease to exist in the future. (2.12) Just as a living being acquires a \n",
            "childhood body, a youth body, and an old -age body during this life; \n",
            "similarly, it acquires another new body after death. The wise are \n",
            "not deluded by this. (2.13) The contacts of the senses with the \n",
            "sense objects give rise to the feelings of heat and cold, pain and \n",
            "pleasure. They are transitory and impermanent. Therefore, learn \n",
            "to endure them, O Arjuna, (2.1 4) because a calm person — who is \n",
            "not \n"
          ]
        }
      ]
    },
    {
      "cell_type": "markdown",
      "source": [
        "- Keep 100 words per line inside text"
      ],
      "metadata": {
        "id": "K2jVl0QMJ6VW"
      }
    },
    {
      "cell_type": "code",
      "source": [
        "len(text_file)"
      ],
      "metadata": {
        "colab": {
          "base_uri": "https://localhost:8080/"
        },
        "id": "tkl-_hxhldls",
        "outputId": "2426e26f-8740-4d19-9e4b-1e07e975e990"
      },
      "execution_count": 24,
      "outputs": [
        {
          "output_type": "execute_result",
          "data": {
            "text/plain": [
              "131723"
            ]
          },
          "metadata": {},
          "execution_count": 24
        }
      ]
    },
    {
      "cell_type": "code",
      "source": [
        "# Initialize an empty list to temporarily store words and a string to store the reformatted text\n",
        "word_list = []  # This will store words in batches of 100\n",
        "new_text_file = ''  # This will store the final reformatted text with line breaks\n",
        "\n",
        "# Iterate through each line of the input text file\n",
        "for line in text_file.split('\\n'):\n",
        "    # Split the line into individual words\n",
        "    words = line.split()\n",
        "\n",
        "    # Iterate through each word in the current line\n",
        "    for word in words:\n",
        "        word_list.append(word)  # Add the word to the temporary list\n",
        "\n",
        "        # Check if the word list contains 100 words\n",
        "        if len(word_list) == 100:\n",
        "            # Join the 100 words into a single line, add a newline character, and append to the new text\n",
        "            new_text_file += ' '.join(word_list) + '\\n'\n",
        "            # Reset the word list for the next batch\n",
        "            word_list = []\n",
        "\n",
        "# If there are remaining words in the word list after processing all lines\n",
        "if word_list:\n",
        "    # Join the remaining words and add them as the final line in the new text\n",
        "    new_text_file += ' '.join(word_list) + '\\n'"
      ],
      "metadata": {
        "id": "c8pfjLTgnpOs"
      },
      "execution_count": 28,
      "outputs": []
    },
    {
      "cell_type": "code",
      "source": [
        "new_text_file = ''\n",
        "\n",
        "# YOUR CODE HERE... to code the logic to keep 100 words per line from 'text_file' and save it in 'new_text_file'\n",
        "\n",
        "remaining_words_list = []\n",
        "\n",
        "for line in text_file.split('\\n'):\n",
        "    wordList = []\n",
        "    wordlist = line.split()\n",
        "    new_line = ' '.join(wordlist[:100]) + '\\n'\n",
        "    new_text_file = new_text_file  + new_line\n",
        "    remaining_words_list += wordlist[100:]\n",
        "\n",
        "new_text_file = new_text_file  + '\\n' + ' '.join(remaining_words_list)\n",
        "len(new_text_file)"
      ],
      "metadata": {
        "id": "FvWru40_F0Rh",
        "colab": {
          "base_uri": "https://localhost:8080/"
        },
        "outputId": "c922e24d-3be2-42e0-c18b-8ec07941aac7"
      },
      "execution_count": 25,
      "outputs": [
        {
          "output_type": "execute_result",
          "data": {
            "text/plain": [
              "129838"
            ]
          },
          "metadata": {},
          "execution_count": 25
        }
      ]
    },
    {
      "cell_type": "code",
      "source": [
        "print(new_text_file[:8000])"
      ],
      "metadata": {
        "id": "FURAL8FxF0Pg",
        "colab": {
          "base_uri": "https://localhost:8080/"
        },
        "outputId": "cb79009c-06d0-4912-f04a-fcd38bf43f69"
      },
      "execution_count": 29,
      "outputs": [
        {
          "output_type": "stream",
          "name": "stdout",
          "text": [
            "BHAGAVAD -GITA in ENGLISH Author: Sage Veda Vy asa Translat ed in English : Ramananda Prasad , Ph.D. Language Editor s: Needed Contact: rprasad@gita -society.com ***** “Let noble thoughts come to us from everywhere” (The Vedas) INTRODUCTION The Bhagavad -Gita is a doctrine of universal truth and a book of moral and spiritual growth . Its message is sublime and non -sec- tarian . It deals with the most sacred metaphysi cal science. It im- parts the knowledge of the Self and answers two universal ques- tions: Who am I, and how can I lead a happy and peaceful life\n",
            "in this wor d full of dualities and dilemmas ? It's a timeless book of wisdom that inspired Thoreau, Emerson, Einstein, Oppenheimer, Gandhi and many others. The Bhagavad - Gita teaches us how to equip ourselves for the battle of life. A re- peated study with faith purifies our psyche and guides us to face the challenges of modern livin g leading to inner peace and happi- ness. Gita teaches the spiritual science of Self -realization (SR) based on the essence of Upanishads and Vedanta. The prime message of the Gita is : The ultimate purpose of life is to\n",
            "realize one’s essen- tial nature and become one with the Supreme Self within all of us . It assures spiritual progress for all humans, and ho w to be one with the Supreme. Its teachings are profound, universal, uplifting, and sublime. The ignorance of metaphysical or Spiritual knowledge —not knowing our real identity —is humanity’s greatest predicament. It is said that there is no human mind that cannot be purified by a re- peated study of the Gita. Gita explains the basic principles of spir- itual science — using Sanskrit poetry — in a very clear and inspiring manner. Sacred\n",
            "relationship between the Creator and the creation is well established in the G ita. If one lives in the spirit of even a few verses of the Gita, one’s life will be transformed into divinity. The philosophy of duty, devotion and Self -knowledge is won- derfully synthesized and harmonized in the Gita —without creating any conflict among t hem—to give the reader eternal bliss, everlast- ing peace and perennial joy in life. It awakens Cosmic Conscious- ness and stimulates life with spirituality. Religion tends to create a wall of division and conflicts along religious lines. Whereas, spirit- uality unites people\n",
            "by breaking those walls. A spiritual person is a friend of all and a foe of none, because he considers all crea- tures —living or non -living —as part and parcel of the Cosmic body of the Absolute , the Source . The message of the Gita came to huma nity due to Arjuna’s unwill ingness to do his duty as a warrior , because fighting in volved destr uction and killing. Nonviolence or Ahi nsa is one of the most fundamen tal tenets of spiritual culture. All lives, human or non -hu- man, are sacred. This immortal discourse between\n",
            "the Supreme Lord, Krishna, and His devotee -friend, Arjuna, occurs not in a tem- ple, a secluded forest, or on a mountain top ; but on a battlefield on the eve of a big war. Anyone can be helped by practice of only a few of its teach ings. No change of one’s faith or life -style is needed ! A total of seven hundred (700) verses of the Gita, in 18 chap- ters, are recorded in world’s longest epic, Mah abharata, having over 100,000 verses in Sanskrit poetry . In Gita Lord Krishna ad- vises Arjuna to get up\n",
            "and fight. This may create a misunderstand- ing of the prin ciples of non-violence if the background of the war of Mahabharata is not kept in mind. Therefore, a brief historical de- scription is in order. In ancient times there was a king who had t wo sons, Dhri- tarashtra and P andu. The former was born blind; therefore, P andu inherited the kingdom. P andu had five sons. They were called the Pandavas. Dhritar ashtra had one hundred sons. They were called the Kauravas. Duryodhana was the eldest of the Kauravas. After the death of king P andu, the\n",
            "eldest son of P andu became the lawful King. Duryodhana was a very jealous person. He also wanted the king dom. The ki ngdom was divided into two halves be- tween the P andavas and the Kauravas. Duryodhana was not sat- isfied with his share of the king dom. He wanted the entire kingdom for himself. He unsuccessfully planned several foul pl ays to kill the Pandavas and take away their kingdom also. He unlawfully took possession of the entire kingdom of the P andavas and refused to give back even an acre of land without a war. All mediation\n",
            "by Lord Krishna and others failed. The big war of Mah abharata was thus inevitable. The P andavas were unwilling par ticipants. They had only two choices: Fight for their right as a matter of duty or run away from war and accept defeat for the sake of peace and nonvi- olence. Arjuna, one of the five P andava brothers, faced th is di- lemma in the battle field: Whether to fight or run away from war for peace. Arjuna’s dilemma is, in reality, the Universal Dilemma. All hu- man beings face dilemmas, big or small, in their everyday life\n",
            "wh ile performing their duties. Arjuna’s dilemma was a big one. He had to make a choice between fighting the war and killing his most revered guru who was on the other side, very dear friends, close relatives, and many innocent warriors; or run ning away from the battlefield for the sake of preser ving peace and nonviolence. The entire seven hundred verses of the Bhagavad -Gita are a discourse between Lord Krishna and the confused Arjuna on the battlefield near New Delhi, India, in 3,139 BCE. This discourse was narrated to the blind king, Dhritar ashtra, by his charioteer,\n",
            "Sanjaya, as an eyewitness war report. The word ‘Bhagavad’ means the Supreme Being , God or Bha- gavan in Sanskrit. ‘Gita’ means song. Thus , Bhagavad -Gita means the Song of God or The Celestial Song, because it was sung by Bhagav an Lord Krishna , an incarnation of God Himself. CHAPTER 1 1. Arjuna’s Dilemma The blind King inquired from his charioteer : O Sanjaya, tell me in detail, what did my sons and the P andavas do in the battlefield before the war started? (1.01) Chapter Summary Sanjaya said: Arjuna asked his charioteer -friend, Lord Krishna, to drive\n",
            "his chariot between the two armies so that he could see the arm ies on both sides . Arjuna felt great compas sion to see his friends and relatives on the opposite side, whom he must kill to win this war. He became confused, spoke of the evils of war, and re- fused to fight or do his duty as a warrior . Arjuna sat down on the back seat of the chariot with his mind overwhelmed with sorrow. ( Verse 1.47) NOTE : Some non -essential verses from Chapters 1 and 2 only have been omitted for ease of\n",
            "understanding the teachings of the Gita by the first time readers. CHAPTER 2 2. Spiritual knowledge Sanjaya said: Lord Krishna spoke these words to Arjuna whose eyes were tearful and downcast, and who was overwhelmed with compassion and despair. (2.01) O King, Lord Krishna, as if smiling, spoke these words to distressed Arjuna in the midst of the two ar- mies. (2.10) Teachings of the Gita begins Important verses are high lighted . First time readers should read and understand thes e verses first. The Supreme Lord said: You grieve for those who are not wor- thy of grief; and\n",
            "yet speak words of wisdom. The wise grieve nei- ther for the living nor for the dead. (2.11) There was never a time when these monarchs, you, or I did not exist, nor shall we ever cease to exist in the future. (2.12) Just as a living being acquires a childhood body, a youth body, and an old -age body during this life; similarly, it acquires another new body after death. The wise are not deluded by this. (2.13) The contacts of the senses with the sense objects give rise to the feelings of heat and cold, pain and pleasure.\n",
            "They are transitory and impermanent. Therefore, learn to endure them, O Arjuna, (2.1 4) because a calm person — who is not afflicted by these sense objects, and is steady in pain and pleasure — becomes fit for immortality, O Arjuna. (2.15) The spiri\n"
          ]
        }
      ]
    },
    {
      "cell_type": "code",
      "source": [
        "len(new_text_file.split('\\n')[0].split())"
      ],
      "metadata": {
        "id": "Egfuqi6-Hf2u",
        "colab": {
          "base_uri": "https://localhost:8080/"
        },
        "outputId": "54231941-f1f6-4016-bd6e-7c64d552aeb3"
      },
      "execution_count": 30,
      "outputs": [
        {
          "output_type": "execute_result",
          "data": {
            "text/plain": [
              "100"
            ]
          },
          "metadata": {},
          "execution_count": 30
        }
      ]
    },
    {
      "cell_type": "markdown",
      "source": [
        "### Split the text into training and validation sets"
      ],
      "metadata": {
        "id": "DUO4loorLsA9"
      }
    },
    {
      "cell_type": "code",
      "source": [
        "# Split the text into training and validation sets\n",
        "\n",
        "train_fraction = 0.8\n",
        "split_index = int(train_fraction * len(new_text_file))\n",
        "\n",
        "train_text = new_text_file[:split_index]\n",
        "\n",
        "val_text =  new_text_file[split_index:] # YOUR CODE HERE to get remaining text_file content"
      ],
      "metadata": {
        "id": "Au9dHz2IcOLa"
      },
      "execution_count": 31,
      "outputs": []
    },
    {
      "cell_type": "code",
      "source": [
        "len(train_text)"
      ],
      "metadata": {
        "id": "_7YIqYzIawcO",
        "colab": {
          "base_uri": "https://localhost:8080/"
        },
        "outputId": "85521111-126f-4bd4-bad8-512dcbb5f39f"
      },
      "execution_count": 32,
      "outputs": [
        {
          "output_type": "execute_result",
          "data": {
            "text/plain": [
              "103812"
            ]
          },
          "metadata": {},
          "execution_count": 32
        }
      ]
    },
    {
      "cell_type": "code",
      "source": [
        "# Save the training and validation data as text files\n",
        "\n",
        "with open(\"train.txt\", \"w\") as f:\n",
        "    f.write(train_text)\n",
        "\n",
        "# YOUR CODE HERE to save 'val_text' data into a text file 'val.txt'\n",
        "with open(\"val.txt\", \"w\") as f:\n",
        "    f.write(val_text)"
      ],
      "metadata": {
        "id": "ABHKmK7ZcUlA"
      },
      "execution_count": 33,
      "outputs": []
    },
    {
      "cell_type": "markdown",
      "source": [
        "### Load pre-trained tokenizer - GP2Tokenizer"
      ],
      "metadata": {
        "id": "Y1hlYtjjML1r"
      }
    },
    {
      "cell_type": "markdown",
      "source": [
        "The GPT2Tokenizer is based on ***Byte-Pair-Encoding***.\n",
        "\n",
        "Byte-Pair Encoding (BPE) was initially developed as an algorithm to compress texts, and then used by OpenAI for tokenization when pretraining the GPT model.\n",
        "\n",
        "In BPE, new tokens are added until the desired vocabulary size is reached by learning ***merges***, which are rules to merge two elements of the existing vocabulary together into a new one.\n",
        "\n",
        "Below figure shows how the vocabulary updates as the BPE algorithm progresses.\n",
        "\n",
        "<br>\n",
        "<center>\n",
        "<img src=\"https://cdn.iisc.talentsprint.com/AIandMLOps/Images/Byte-pair-encoding.png\" width=450px>\n",
        "</center>\n",
        "\n",
        "To know more about Byte-Pair Encoding, refer [here](https://huggingface.co/learn/nlp-course/chapter6/5?fw=pt#byte-pair-encoding-tokenization).\n",
        "\n",
        "<br>\n",
        "\n",
        "Some of the parameters required to create a GP2Tokenizer includes:\n",
        "\n",
        "- ***vocab_file (str):*** path to the vocabulary json file; maps token to integer ids\n",
        "\n",
        "- ***merges_file (str):*** path to the ***merges*** file; contains the merge rule; The merge rule file should have one merge rule per line. Every merge rule contains merge entities separated by a space.\n",
        "\n"
      ],
      "metadata": {
        "id": "6LIwiw1qnGIc"
      }
    },
    {
      "cell_type": "markdown",
      "source": [
        "Here, we will instantiate a GPT-2 tokenizer from a predefined tokenizer using `from_pretrained()` method.\n",
        "\n",
        "It includes a parameter:\n",
        "\n",
        "- ***pretrained_model_name_or_path:*** It can be a string of a predefined tokenizer hosted inside a model repo on huggingface.co.\n",
        "\n",
        "    For example: *gpt2, gpt2-medium, gpt2-large, or gpt2-xl*\n",
        "\n",
        "    This will download the corresponding vocab, merges, and config files."
      ],
      "metadata": {
        "id": "HXxBS2ShDIYH"
      }
    },
    {
      "cell_type": "code",
      "source": [
        "# Set up the tokenizer\n",
        "checkpoint = \"gpt2\"\n",
        "tokenizer = GPT2Tokenizer.from_pretrained(checkpoint) # YOUR CODE HERE to load GPT2Tokenizer using 'checkpoint'           # also try gpt2, gpt2-large and gpt2-medium, also gpt2-xl\n",
        "\n",
        "# set pad_token_id to unk_token_id\n",
        "tokenizer.pad_token = tokenizer.unk_token"
      ],
      "metadata": {
        "id": "-qiMe9TAplyj",
        "colab": {
          "base_uri": "https://localhost:8080/",
          "height": 177,
          "referenced_widgets": [
            "ccf8fbd3f4a848df84b6fed3bb001742",
            "28347dc5ad734ef3a684dbed35e918bb",
            "2ffcc0b0162e4abe9c3498e0a13abf48",
            "6811300b70044e67815a6399cd6c7d45",
            "01fb71c9dc68411786a4b4751d4311cf",
            "1ca0ec705a4049959d32122aa2a93b45",
            "48684a090f4143aeba4325c35cede991",
            "4f3448777af14d10a43e567d935a05a6",
            "595c8fd14f2440e0902a9c3cfffc979a",
            "d65e7c406bd9405786548765dd559d55",
            "72fb3f007151466fbd450542f839b552",
            "66d2ec4ed67048b4b5665da585a9a4a7",
            "09a5c3855a3d421c9d5bb4b4398a9c63",
            "5a88833281304f57bfa36303916b4412",
            "d5242acb47f54ab3bbe7f792d2c1f374",
            "6edb62e899df4c73b44a81fd687e98fe",
            "4fe729cb78f1454f9c0e69db59a0822b",
            "a79059bda5d7454abbc966cb4fa3c566",
            "34654a959a98481387ce48c62c10200e",
            "db5ed79bd0c34ea18f320861791d2b64",
            "88c4f93df798442c9175f47e74d7cd9d",
            "61fc4169ca494d6aa6504526bc704e77",
            "41fc2173080148468eeab76c987b983f",
            "22ea592dde1849b98d424ae3d8805273",
            "d9f8349e4d3b41a99a9326ed9cc72339",
            "e83e6007ac124fbe94606894e3ff56f6",
            "6cbc37f5b10c48049592d3ed0af3467a",
            "db6e97d8f9d9420f8ffd22408388f16d",
            "b36505bf4da64087855e109ccddd0d1b",
            "70b5f429bade4e668e3b330b7edbf404",
            "1fa4aa7106ea49d8a76c6523db3a8ee4",
            "4238c8e80138410f922851d436785149",
            "104f631255df4866b095d798bfa2607e",
            "acfd49c8ecdf42a89008ef60aaec529c",
            "d41acf9678214abf8efca145219c130e",
            "6e5dd972bf3a4347a6ba91b3df269e48",
            "638a007f84cb4d0c93b39df21ba23ae7",
            "2b19b0eb272c47839bb0ebfeb4f16512",
            "1b1d9db80670414bbce0a788b30452c1",
            "4ab3207684cb434980056c3eb325198a",
            "197f937d5b634522bc4d92748ab0bcee",
            "866df890144549af977dd6747b7f26bd",
            "52376367f34042b7b137b221b606ebf1",
            "7d04eefeb4f8419686ee6a4ca7ec158a",
            "1ac3734f91c1426ab791fbb1453adf39",
            "ecbeeb3118c442f485dd65e33ad6e0eb",
            "4bd183732b374725acfe73d873da4acd",
            "0de0fdc0194247ed8085d3fd98c787e2",
            "029c3502f7a642589aa7a1f4a28d50d7",
            "6b41fecd45764dcd92c1ceb9196ccf65",
            "c9dfa38b88644974be0940ef769ee545",
            "99acb6be98184ff98ce6f5f97ff75241",
            "51fcd4afeb0441618cc2092719146ac8",
            "10bff54856cf4232afd3d6e6f5b2021b",
            "fddd572157af43c19a218f358a958a77"
          ]
        },
        "outputId": "a1861b78-bfff-4c50-f5c6-43a84a904b81"
      },
      "execution_count": 34,
      "outputs": [
        {
          "output_type": "display_data",
          "data": {
            "text/plain": [
              "tokenizer_config.json:   0%|          | 0.00/26.0 [00:00<?, ?B/s]"
            ],
            "application/vnd.jupyter.widget-view+json": {
              "version_major": 2,
              "version_minor": 0,
              "model_id": "ccf8fbd3f4a848df84b6fed3bb001742"
            }
          },
          "metadata": {}
        },
        {
          "output_type": "display_data",
          "data": {
            "text/plain": [
              "vocab.json:   0%|          | 0.00/1.04M [00:00<?, ?B/s]"
            ],
            "application/vnd.jupyter.widget-view+json": {
              "version_major": 2,
              "version_minor": 0,
              "model_id": "66d2ec4ed67048b4b5665da585a9a4a7"
            }
          },
          "metadata": {}
        },
        {
          "output_type": "display_data",
          "data": {
            "text/plain": [
              "merges.txt:   0%|          | 0.00/456k [00:00<?, ?B/s]"
            ],
            "application/vnd.jupyter.widget-view+json": {
              "version_major": 2,
              "version_minor": 0,
              "model_id": "41fc2173080148468eeab76c987b983f"
            }
          },
          "metadata": {}
        },
        {
          "output_type": "display_data",
          "data": {
            "text/plain": [
              "tokenizer.json:   0%|          | 0.00/1.36M [00:00<?, ?B/s]"
            ],
            "application/vnd.jupyter.widget-view+json": {
              "version_major": 2,
              "version_minor": 0,
              "model_id": "acfd49c8ecdf42a89008ef60aaec529c"
            }
          },
          "metadata": {}
        },
        {
          "output_type": "display_data",
          "data": {
            "text/plain": [
              "config.json:   0%|          | 0.00/665 [00:00<?, ?B/s]"
            ],
            "application/vnd.jupyter.widget-view+json": {
              "version_major": 2,
              "version_minor": 0,
              "model_id": "1ac3734f91c1426ab791fbb1453adf39"
            }
          },
          "metadata": {}
        }
      ]
    },
    {
      "cell_type": "code",
      "source": [
        "# Tokenize sample text using GP2Tokenizer\n",
        "sample_ids = tokenizer(\"Hello world\")\n",
        "sample_ids"
      ],
      "metadata": {
        "id": "_l2MihgfwEPh",
        "colab": {
          "base_uri": "https://localhost:8080/"
        },
        "outputId": "c593ce65-101a-4551-80fa-98a9b36253c3"
      },
      "execution_count": 35,
      "outputs": [
        {
          "output_type": "execute_result",
          "data": {
            "text/plain": [
              "{'input_ids': [15496, 995], 'attention_mask': [1, 1]}"
            ]
          },
          "metadata": {},
          "execution_count": 35
        }
      ]
    },
    {
      "cell_type": "code",
      "source": [
        "# Generate tokens for sample text\n",
        "sample_tokens = tokenizer.convert_ids_to_tokens(sample_ids['input_ids'])\n",
        "sample_tokens"
      ],
      "metadata": {
        "id": "sXYqWSzLwaBA",
        "colab": {
          "base_uri": "https://localhost:8080/"
        },
        "outputId": "76d56c70-1aca-4655-a2d5-93dba44891da"
      },
      "execution_count": 36,
      "outputs": [
        {
          "output_type": "execute_result",
          "data": {
            "text/plain": [
              "['Hello', 'Ġworld']"
            ]
          },
          "metadata": {},
          "execution_count": 36
        }
      ]
    },
    {
      "cell_type": "code",
      "source": [
        "# Generate original text back\n",
        "tokenizer.convert_tokens_to_string(sample_tokens)"
      ],
      "metadata": {
        "id": "sHuZKceCwNKm",
        "colab": {
          "base_uri": "https://localhost:8080/",
          "height": 35
        },
        "outputId": "f99b22f3-c49d-4dee-a40d-f61d3608109a"
      },
      "execution_count": 37,
      "outputs": [
        {
          "output_type": "execute_result",
          "data": {
            "text/plain": [
              "'Hello world'"
            ],
            "application/vnd.google.colaboratory.intrinsic+json": {
              "type": "string"
            }
          },
          "metadata": {},
          "execution_count": 37
        }
      ]
    },
    {
      "cell_type": "markdown",
      "source": [
        "### Tokenize text data"
      ],
      "metadata": {
        "id": "InX4FOvgP0mi"
      }
    },
    {
      "cell_type": "code",
      "source": [
        "from datasets import load_dataset"
      ],
      "metadata": {
        "id": "XwIjTYLjjWod"
      },
      "execution_count": 38,
      "outputs": []
    },
    {
      "cell_type": "code",
      "source": [
        "train_file_path = 'train.txt'\n",
        "val_file_path = 'val.txt'\n",
        "\n",
        "dataset = load_dataset(\"text\", data_files={\"train\": train_file_path,\n",
        "                                           \"validation\": val_file_path})"
      ],
      "metadata": {
        "id": "T1tQt0spjWhr",
        "colab": {
          "base_uri": "https://localhost:8080/",
          "height": 81,
          "referenced_widgets": [
            "5e112c2257e54684b9076f7e0274ceef",
            "8609cd507278420dbd827a672ef6df25",
            "5201836acaf14dcdbafdefd0f1af174f",
            "4f7a92db9355466d8c374bb6c7510ecd",
            "df5836d19c3e46d5a445ad0255ad39ed",
            "7e07785b38c14f308844c09b7fa60347",
            "e53a9c5f41ab457e9bf43c2bdb4886d3",
            "20832c89323f42e99bbe65fdf049c06c",
            "a616a121ed6648128cf9ae92f8153624",
            "68a395fd524a4c38a2f2f6d9d96df094",
            "625c13e7484840f69ad037ae8baeabe5",
            "e85d2ab0f73b4111bab87cceddc16812",
            "a36e07aba75d4bc591fe49c90901e700",
            "6a26ec2b621e431f94287720f064a368",
            "7b30d87c236d4b9292767b7d9f4fca61",
            "1d0c114484a14d5389618d7c856ee691",
            "7c30311e64fb400494ecdd2c29d605cd",
            "f16e199e32a646a9a3e668bab643a2ee",
            "c6d68f0f0e874b2aaae9c13388396780",
            "199104ef75af452494b1d35bbc20c489",
            "24fca9ebdedd4dd7b92808da4a3a9961",
            "bf010af9d1c84b79ab617ee068fbd175"
          ]
        },
        "outputId": "a41f1796-60ba-4fc2-afea-2a4bda332028"
      },
      "execution_count": 39,
      "outputs": [
        {
          "output_type": "display_data",
          "data": {
            "text/plain": [
              "Generating train split: 0 examples [00:00, ? examples/s]"
            ],
            "application/vnd.jupyter.widget-view+json": {
              "version_major": 2,
              "version_minor": 0,
              "model_id": "5e112c2257e54684b9076f7e0274ceef"
            }
          },
          "metadata": {}
        },
        {
          "output_type": "display_data",
          "data": {
            "text/plain": [
              "Generating validation split: 0 examples [00:00, ? examples/s]"
            ],
            "application/vnd.jupyter.widget-view+json": {
              "version_major": 2,
              "version_minor": 0,
              "model_id": "e85d2ab0f73b4111bab87cceddc16812"
            }
          },
          "metadata": {}
        }
      ]
    },
    {
      "cell_type": "code",
      "source": [
        "dataset"
      ],
      "metadata": {
        "id": "pcyNf7_Wjan9",
        "colab": {
          "base_uri": "https://localhost:8080/"
        },
        "outputId": "d4b6db34-4015-445a-e081-39933ff97185"
      },
      "execution_count": 40,
      "outputs": [
        {
          "output_type": "execute_result",
          "data": {
            "text/plain": [
              "DatasetDict({\n",
              "    train: Dataset({\n",
              "        features: ['text'],\n",
              "        num_rows: 185\n",
              "    })\n",
              "    validation: Dataset({\n",
              "        features: ['text'],\n",
              "        num_rows: 46\n",
              "    })\n",
              "})"
            ]
          },
          "metadata": {},
          "execution_count": 40
        }
      ]
    },
    {
      "cell_type": "code",
      "source": [
        "dataset['train']['text'][0]"
      ],
      "metadata": {
        "id": "t5Eolw86jdW2",
        "colab": {
          "base_uri": "https://localhost:8080/",
          "height": 87
        },
        "outputId": "c7dc249a-2c20-4447-f690-2b48a2014028"
      },
      "execution_count": 41,
      "outputs": [
        {
          "output_type": "execute_result",
          "data": {
            "text/plain": [
              "'BHAGAVAD -GITA in ENGLISH Author: Sage Veda Vy asa Translat ed in English : Ramananda Prasad , Ph.D. Language Editor s: Needed Contact: rprasad@gita -society.com ***** “Let noble thoughts come to us from everywhere” (The Vedas) INTRODUCTION The Bhagavad -Gita is a doctrine of universal truth and a book of moral and spiritual growth . Its message is sublime and non -sec- tarian . It deals with the most sacred metaphysi cal science. It im- parts the knowledge of the Self and answers two universal ques- tions: Who am I, and how can I lead a happy and peaceful life'"
            ],
            "application/vnd.google.colaboratory.intrinsic+json": {
              "type": "string"
            }
          },
          "metadata": {},
          "execution_count": 41
        }
      ]
    },
    {
      "cell_type": "code",
      "source": [
        "block_size = 256     # max tokens in an input sample\n",
        "\n",
        "def tokenize_function(examples):\n",
        "    return tokenizer(examples[\"text\"], padding='max_length', truncation=True, max_length=block_size, return_tensors='pt')\n",
        "\n",
        "tokenized_datasets = dataset.map(tokenize_function, batched=True)"
      ],
      "metadata": {
        "id": "fe593JNEj8xB",
        "colab": {
          "base_uri": "https://localhost:8080/",
          "height": 81,
          "referenced_widgets": [
            "ce7208e273774d63946380034a5b4e59",
            "ea9e2471afa142eeb2938f66e9a63dd7",
            "c39b98a5b96d467d952d11fb2b7f1854",
            "c3e52416490c44e5a5a49d9c4a4d642c",
            "7a0a068612744cadbeff52e9f5e3ac02",
            "ad6c071231fd4a7ba2f211c4f97f9516",
            "3f1eec577e924b229e13e4c0b0657dc9",
            "550768ceebe1470fa959745f0ce97f7a",
            "4dbaf221de40460fb46820f5701028b5",
            "7e03c43b5e3a479dad5e9a8c54e185f2",
            "0a24f96729604c8f80414420a8cbbb68",
            "08081a888fdc48098cca7eb051229f58",
            "f4f1face0ed34af28492f32541eab184",
            "2f403a45ec324ab2baffdf6eea922a3e",
            "0c152b228bd14da684940eaf31870074",
            "0eaa57f92eb94df4bea9e743e63d109f",
            "7d55b04b522747bf9de928d3cec22783",
            "85b2e462bfb8419c997eef4c64680602",
            "3a9405957e514502a4133bc9253d6e7a",
            "07a0aac3d6594d44850e3dd4dcde7398",
            "d13f386c69c14e0bb3b83fa0b92eefb8",
            "ddbe5f8e491d41bea9b50a16a2312b91"
          ]
        },
        "outputId": "f5afdcda-fbcb-4ccf-e125-5089363f599a"
      },
      "execution_count": 42,
      "outputs": [
        {
          "output_type": "display_data",
          "data": {
            "text/plain": [
              "Map:   0%|          | 0/185 [00:00<?, ? examples/s]"
            ],
            "application/vnd.jupyter.widget-view+json": {
              "version_major": 2,
              "version_minor": 0,
              "model_id": "ce7208e273774d63946380034a5b4e59"
            }
          },
          "metadata": {}
        },
        {
          "output_type": "display_data",
          "data": {
            "text/plain": [
              "Map:   0%|          | 0/46 [00:00<?, ? examples/s]"
            ],
            "application/vnd.jupyter.widget-view+json": {
              "version_major": 2,
              "version_minor": 0,
              "model_id": "08081a888fdc48098cca7eb051229f58"
            }
          },
          "metadata": {}
        }
      ]
    },
    {
      "cell_type": "code",
      "source": [
        "tokenized_datasets"
      ],
      "metadata": {
        "id": "u7hUV8OIkGbZ",
        "colab": {
          "base_uri": "https://localhost:8080/"
        },
        "outputId": "3e344a49-971d-4ff7-cf18-f771185c8edf"
      },
      "execution_count": 43,
      "outputs": [
        {
          "output_type": "execute_result",
          "data": {
            "text/plain": [
              "DatasetDict({\n",
              "    train: Dataset({\n",
              "        features: ['text', 'input_ids', 'attention_mask'],\n",
              "        num_rows: 185\n",
              "    })\n",
              "    validation: Dataset({\n",
              "        features: ['text', 'input_ids', 'attention_mask'],\n",
              "        num_rows: 46\n",
              "    })\n",
              "})"
            ]
          },
          "metadata": {},
          "execution_count": 43
        }
      ]
    },
    {
      "cell_type": "code",
      "source": [
        "len(tokenized_datasets['train']['input_ids'][0])"
      ],
      "metadata": {
        "id": "sotAhBQIks_Z",
        "colab": {
          "base_uri": "https://localhost:8080/"
        },
        "outputId": "37c6a27d-9d76-414b-d3f9-be9b6bc8225c"
      },
      "execution_count": 44,
      "outputs": [
        {
          "output_type": "execute_result",
          "data": {
            "text/plain": [
              "256"
            ]
          },
          "metadata": {},
          "execution_count": 44
        }
      ]
    },
    {
      "cell_type": "code",
      "source": [
        "tokenizer.decode(tokenized_datasets['train']['input_ids'][0])"
      ],
      "metadata": {
        "id": "hCUdQMcejalM",
        "colab": {
          "base_uri": "https://localhost:8080/",
          "height": 122
        },
        "outputId": "7616b784-7a5f-4d63-bca6-3761fa108fd3"
      },
      "execution_count": 45,
      "outputs": [
        {
          "output_type": "execute_result",
          "data": {
            "text/plain": [
              "'BHAGAVAD -GITA in ENGLISH Author: Sage Veda Vy asa Translat ed in English : Ramananda Prasad , Ph.D. Language Editor s: Needed Contact: rprasad@gita -society.com ***** “Let noble thoughts come to us from everywhere” (The Vedas) INTRODUCTION The Bhagavad -Gita is a doctrine of universal truth and a book of moral and spiritual growth . Its message is sublime and non -sec- tarian . It deals with the most sacred metaphysi cal science. It im- parts the knowledge of the Self and answers two universal ques- tions: Who am I, and how can I lead a happy and peaceful life<|endoftext|><|endoftext|><|endoftext|><|endoftext|><|endoftext|><|endoftext|><|endoftext|><|endoftext|><|endoftext|><|endoftext|><|endoftext|><|endoftext|><|endoftext|><|endoftext|><|endoftext|><|endoftext|><|endoftext|><|endoftext|><|endoftext|><|endoftext|><|endoftext|><|endoftext|><|endoftext|><|endoftext|><|endoftext|><|endoftext|><|endoftext|><|endoftext|><|endoftext|><|endoftext|><|endoftext|><|endoftext|><|endoftext|><|endoftext|><|endoftext|><|endoftext|><|endoftext|><|endoftext|><|endoftext|><|endoftext|><|endoftext|><|endoftext|><|endoftext|><|endoftext|><|endoftext|><|endoftext|><|endoftext|><|endoftext|><|endoftext|><|endoftext|><|endoftext|><|endoftext|><|endoftext|><|endoftext|><|endoftext|><|endoftext|><|endoftext|><|endoftext|><|endoftext|><|endoftext|><|endoftext|><|endoftext|><|endoftext|><|endoftext|><|endoftext|><|endoftext|><|endoftext|><|endoftext|><|endoftext|><|endoftext|><|endoftext|><|endoftext|><|endoftext|><|endoftext|><|endoftext|><|endoftext|><|endoftext|><|endoftext|><|endoftext|><|endoftext|><|endoftext|><|endoftext|><|endoftext|><|endoftext|><|endoftext|><|endoftext|><|endoftext|><|endoftext|><|endoftext|><|endoftext|><|endoftext|><|endoftext|><|endoftext|><|endoftext|>'"
            ],
            "application/vnd.google.colaboratory.intrinsic+json": {
              "type": "string"
            }
          },
          "metadata": {},
          "execution_count": 45
        }
      ]
    },
    {
      "cell_type": "markdown",
      "source": [
        "### Data Collator\n",
        "\n",
        "Data collators are objects that:\n",
        "\n",
        "- will form a batch by using a list of dataset elements as input\n",
        "- may apply some processing (like padding)\n",
        "\n",
        "One of the data collators, `DataCollatorForLanguageModeling`, can also apply some random data augmentation (like random masking) on the formed batch.\n",
        "\n",
        "<br>\n",
        "\n",
        "`DataCollatorForLanguageModeling` is a data collator used for language modeling. Inputs are dynamically padded to the maximum length of a batch if they are not all of the same length.\n",
        "\n",
        "Parameters:\n",
        "\n",
        "- ***tokenizer:*** The tokenizer used for encoding the data.\n",
        "- ***mlm*** (bool, optional, default=True): Whether or not to use masked language modeling.\n",
        "    - If set to False, the labels are the same as the inputs with the padding tokens ignored (by setting them to -100).\n",
        "    - Otherwise, the labels are -100 for non-masked tokens and the value to predict for the masked token.\n",
        "- ***return_tensors*** (str): The type of Tensor to return. Allowable values are “np”, “pt” and “tf” for numpy array, pytorch tensor, and tensorflow tensor respectively.\n",
        "\n",
        "To know more about `DataCollatorForLanguageModeling` parameters, refer [here](https://huggingface.co/docs/transformers/v4.32.0/en/main_classes/data_collator#transformers.DataCollatorForLanguageModeling)."
      ],
      "metadata": {
        "id": "itcSXbZMib_Y"
      }
    },
    {
      "cell_type": "code",
      "source": [
        "# Create a Data collator object\n",
        "data_collator = DataCollatorForLanguageModeling(tokenizer=tokenizer, mlm=False, return_tensors=\"pt\")"
      ],
      "metadata": {
        "id": "Z_XWmIF3cmhU"
      },
      "execution_count": 46,
      "outputs": []
    },
    {
      "cell_type": "markdown",
      "source": [
        "### Load pre-trained Model"
      ],
      "metadata": {
        "id": "uophCXjYq9MO"
      }
    },
    {
      "cell_type": "markdown",
      "source": [
        "***GPT2LMHeadModel*** is the GPT2 Model transformer with a language modeling head on top (linear layer with weights tied to the input embeddings).\n",
        "\n",
        "This model is a PyTorch `torch.nn.Module` subclass which can be used as a regular PyTorch Module.\n",
        "\n",
        "Parameters:\n",
        "\n",
        "- ***config (GPT2Config):*** Model configuration class with all the parameters of the model. Initializing with a config file does not load the weights associated with the model, only the configuration.\n",
        "\n",
        "Here, we will instantiate a pretrained pytorch model from a pre-trained model configuration, using `from_pretrained()` method, that will load the weights associated with the model."
      ],
      "metadata": {
        "id": "nuE_NdXuqvw0"
      }
    },
    {
      "cell_type": "code",
      "source": [
        "# Set up the model\n",
        "model = GPT2LMHeadModel.from_pretrained(checkpoint)# YOUR CODE HERE to load GPT2LMHeadModel using 'checkpoint'             # also try gpt2, gpt2-large and gpt2-medium, also gpt2-xl"
      ],
      "metadata": {
        "id": "HxQWgssCqy7j"
      },
      "execution_count": null,
      "outputs": []
    },
    {
      "cell_type": "markdown",
      "source": [
        "**Note: The training time for different GPT models with GPU for this dataset are as follows:**\n",
        "\n",
        "* **GPT-2 : ~25 minutes for 100 epochs**\n",
        "\n",
        "* **GPT-2 Medium:  ~1 hour for 100 epochs**\n",
        "\n",
        "* **GPT-2 Large : Run out of memory**"
      ],
      "metadata": {
        "id": "pM13pdhzJY8y"
      }
    },
    {
      "cell_type": "markdown",
      "source": [
        "### Fine-tune Model *(Switch to GPU runtime if needed)*"
      ],
      "metadata": {
        "id": "LdcpMx9QOPnU"
      }
    },
    {
      "cell_type": "markdown",
      "source": [
        "Train a GPT-2 model using the provided training arguments. Save the resulting trained model and tokenizer to a specified output directory."
      ],
      "metadata": {
        "id": "D1LqRO_Unfmk"
      }
    },
    {
      "cell_type": "markdown",
      "source": [
        "The `Trainer` class provides an API for feature-complete training in PyTorch for most standard use cases.\n",
        "\n",
        "Before instantiating your Trainer, create a `TrainingArguments` to access all the points of customization during training.\n",
        "\n",
        "`TrainingArguments` parameters:\n",
        "\n",
        "- ***output_dir*** (str): The output directory where the model predictions and checkpoints will be written.\n",
        "- ***overwrite_output_dir*** (bool, optional, default=False): If True, overwrite the content of the output directory. Use this to continue training if output_dir points to a checkpoint directory.\n",
        "- ***per_device_train_batch_size*** (int, optional, default=8): The batch size per GPU/TPU/MPS/NPU core/CPU for training.\n",
        "- ***per_device_eval_batch_size*** (int, optional, default=8): The batch size per GPU/TPU/MPS/NPU core/CPU for evaluation.\n",
        "- ***save_total_limit*** (int, optional): If a value is passed, will limit the total amount of checkpoints. Deletes the older checkpoints in output_dir.\n",
        "\n",
        "To know more about `TrainingArguments` parameters, refer [here](https://huggingface.co/docs/transformers/v4.32.0/en/main_classes/trainer#transformers.TrainingArguments).\n",
        "\n",
        "To know more about `Trainer` parameters, refer [here](https://huggingface.co/docs/transformers/v4.32.0/en/main_classes/trainer#transformers.Trainer)."
      ],
      "metadata": {
        "id": "J7pZfFvsopWT"
      }
    },
    {
      "cell_type": "code",
      "source": [
        "# Set up the training arguments\n",
        "\n",
        "model_output_path = \"/content/gpt2_model\"\n",
        "\n",
        "training_args = # YOUR CODE HERE to create TrainingArguments object with\n",
        "                    # model_output_path as output directory,\n",
        "                    # overwrite the content of output directory,\n",
        "                    # use 4 as batch size per device for training and evaluation,\n",
        "                    # num_train_epochs = 100,\n",
        "                    # save_steps = 1_000,\n",
        "                    # save_total_limit = 2,\n",
        "                    # logging_dir = './logs')"
      ],
      "metadata": {
        "id": "UPZiEvn2cuPR"
      },
      "execution_count": null,
      "outputs": []
    },
    {
      "cell_type": "code",
      "source": [
        "# Train the model\n",
        "trainer = # YOUR CODE HERE to create Trainer object with\n",
        "                # model = model,\n",
        "                # args = training_args,\n",
        "                # data_collator = data_collator,\n",
        "                # train_dataset = train_dataset,\n",
        "                # eval_dataset = val_dataset)"
      ],
      "metadata": {
        "id": "UQe5YHVKlfsY"
      },
      "execution_count": null,
      "outputs": []
    },
    {
      "cell_type": "code",
      "source": [
        "# Disabling Weights and Biases logging\n",
        "import os\n",
        "os.environ[\"WANDB_DISABLED\"] = \"true\""
      ],
      "metadata": {
        "id": "grFpbkwtyL4w"
      },
      "execution_count": null,
      "outputs": []
    },
    {
      "cell_type": "code",
      "source": [
        "trainer.train()"
      ],
      "metadata": {
        "id": "BUlxoIvFN4ra"
      },
      "execution_count": null,
      "outputs": []
    },
    {
      "cell_type": "code",
      "source": [
        "# Save the model\n",
        "saved_model_path = \"/content/finetuned_gpt2_model\"\n",
        "trainer.save_model(saved_model_path)\n",
        "\n",
        "# Save the tokenizer\n",
        "# YOUR CODE HERE to save 'tokenizer' using save_pretrained() method at path model_output_path"
      ],
      "metadata": {
        "id": "UX-EmL_dc_H7"
      },
      "execution_count": null,
      "outputs": []
    },
    {
      "cell_type": "markdown",
      "source": [
        "### Test Model with user input prompts"
      ],
      "metadata": {
        "id": "4izo_-go8cDP"
      }
    },
    {
      "cell_type": "markdown",
      "source": [
        "##### Now, let us test the model with some prompt\n"
      ],
      "metadata": {
        "id": "m0JzfOFRcUDI"
      }
    },
    {
      "cell_type": "markdown",
      "source": [
        "The `generate_response()` function takes a trained *model*, *tokenizer*, and a *prompt* string as input and generates a response using the GPT-2 model."
      ],
      "metadata": {
        "id": "W8WnPwpHnz57"
      }
    },
    {
      "cell_type": "code",
      "source": [
        "def generate_response(model, tokenizer, prompt, max_length=200):\n",
        "\n",
        "    input_ids = tokenizer.encode(prompt, return_tensors=\"pt\")      # 'pt' for returning pytorch tensor\n",
        "\n",
        "    # Check the device of the model\n",
        "    device = next(model.parameters()).device\n",
        "\n",
        "    # Move input_ids to the same device as the model\n",
        "    input_ids = input_ids.to(device)\n",
        "\n",
        "    # Create the attention mask and pad token id\n",
        "    attention_mask = torch.ones_like(input_ids)\n",
        "    pad_token_id = tokenizer.eos_token_id\n",
        "\n",
        "    output = model.generate(\n",
        "        input_ids,\n",
        "        max_length=max_length,\n",
        "        num_return_sequences=1,\n",
        "        attention_mask=attention_mask,\n",
        "        pad_token_id=pad_token_id\n",
        "    )\n",
        "\n",
        "    return tokenizer.decode(output[0], skip_special_tokens=True)\n"
      ],
      "metadata": {
        "id": "qeTKPArfgDJW"
      },
      "execution_count": null,
      "outputs": []
    },
    {
      "cell_type": "code",
      "source": [
        "# Load the fine-tuned model and tokenizer\n",
        "\n",
        "my_model = # YOUR CODE HERE to load model from saved_model_path\n",
        "my_tokenizer = # YOUR CODE HERE to load tokenizer from saved_model_path"
      ],
      "metadata": {
        "id": "pJJ3bzD9fsJv"
      },
      "execution_count": null,
      "outputs": []
    },
    {
      "cell_type": "code",
      "source": [
        "# Testing\n",
        "\n",
        "prompt = \"How can one live a righteous life?\"           # Replace with your desired prompt\n",
        "response = generate_response(model, tokenizer, prompt)\n",
        "print(\"Generated response:\")\n",
        "response"
      ],
      "metadata": {
        "id": "hHRnPkIuWeCv"
      },
      "execution_count": null,
      "outputs": []
    },
    {
      "cell_type": "code",
      "source": [
        "# Testing\n",
        "\n",
        "prompt = \"What is the purpose of life?\"           # Replace with your desired prompt\n",
        "response = # YOUR CODE HERE\n"
      ],
      "metadata": {
        "id": "ULUD4riu8i3s"
      },
      "execution_count": null,
      "outputs": []
    },
    {
      "cell_type": "code",
      "source": [
        "# Testing\n",
        "prompt = \"What is Karma?\"          # Replace with your desired prompt\n",
        "response = # YOUR CODE HERE\n"
      ],
      "metadata": {
        "id": "DBlBeSY7gDyO"
      },
      "execution_count": null,
      "outputs": []
    },
    {
      "cell_type": "code",
      "source": [
        "# Testing\n",
        "prompt = \"How to overcome dilemma or fear?\"          # Replace with your desired prompt\n",
        "response = # YOUR CODE HERE\n"
      ],
      "metadata": {
        "id": "8kqiUQz3Xi02"
      },
      "execution_count": null,
      "outputs": []
    },
    {
      "cell_type": "code",
      "source": [
        "# Testing\n",
        "prompt = \"How to control emotions during tough times?\"          # Replace with your desired prompt\n",
        "response = # YOUR CODE HERE\n"
      ],
      "metadata": {
        "id": "F_Li_5L9YPG-"
      },
      "execution_count": null,
      "outputs": []
    },
    {
      "cell_type": "code",
      "source": [
        "# Testing\n",
        "prompt = \"Is there a way to achieve enlightenment?\"          # Replace with your desired prompt\n",
        "response = # YOUR CODE HERE\n"
      ],
      "metadata": {
        "id": "xMgWq9jdYiQp"
      },
      "execution_count": null,
      "outputs": []
    },
    {
      "cell_type": "markdown",
      "source": [
        "In the case of the GPT-2 tokenizer, the model uses a byte-pair encoding (BPE) algorithm, which tokenizes text into subword units. As a result, one word might be represented by multiple tokens.\n",
        "\n",
        "For example, if you set max_length to 50, the generated response will be limited to 50 tokens, which could be fewer than 50 words, depending on the text."
      ],
      "metadata": {
        "id": "XHcQBzdJeB27"
      }
    },
    {
      "cell_type": "markdown",
      "source": [
        "## Push your fine-tuned model to HuggingFace Model Hub"
      ],
      "metadata": {
        "id": "Pzz2iQ3BcLXx"
      }
    },
    {
      "cell_type": "markdown",
      "source": [
        "**Steps to push your fine-tuned model to HuggingFace Model Hub**\n",
        "\n",
        "1. [Sign up](https://huggingface.co/join) for a Hugging Face account\n",
        "2. Create an access token for your account and save it\n",
        "3. Store your access token in the Hugging Face cache folder within colab\n",
        "4. Push your fine-tuned model and tokenizer to Model Hub\n",
        "5. Load the model back from Hub and test it with user input prompts"
      ],
      "metadata": {
        "id": "4vbWDawDPDby"
      }
    },
    {
      "cell_type": "markdown",
      "source": [
        "* **Create an access token for your account**\n",
        "\n",
        "    Once you have an account, to create an access token:\n",
        "    \n",
        "    - Go to your `Settings`, then click on the `Access Tokens` tab. Click on the `New token` button to create a new User Access Token.\n",
        "    - Select a Token type as `Write` and give a name for your token\n",
        "    - Click on Create token\n",
        "    - Once a token is created save it somewhere\n",
        "    - When required later, use the old saved token or create a new token again\n",
        "\n",
        "    To know more about Access Tokens, refer [here](https://huggingface.co/docs/hub/security-tokens)."
      ],
      "metadata": {
        "id": "6R39dW0-VSsF"
      }
    },
    {
      "cell_type": "markdown",
      "source": [
        "* **Store your access token in the Hugging Face cache folder within colab**\n",
        "\n",
        "    Once you have your User Access Token, run the following command to authenticate your identity to the Hub.\n",
        "    - `!huggingface-cli login --token YOUR_TOKEN_NAME`\n",
        "    - Add your token name\n",
        "    - If you want to save the token to the Git credentials helper, you can modify your command to include the `--add-to-git-credential flag`:\n",
        "     \n",
        "      `!huggingface-cli login --token your_token_here --add-to-git-credential`\n",
        "\n",
        "\n",
        "  For more details on login, refer [here](https://huggingface.co/docs/huggingface_hub/quick-start#login)."
      ],
      "metadata": {
        "id": "0qlXt3xcbT3l"
      }
    },
    {
      "cell_type": "code",
      "source": [
        "!huggingface-cli login --token YOUR_TOKEN_HERE"
      ],
      "metadata": {
        "id": "CjgJ-czwhf0S"
      },
      "execution_count": null,
      "outputs": []
    },
    {
      "cell_type": "markdown",
      "source": [
        "* **Push your fine-tuned model and tokenizer to Model Hub**\n",
        "\n",
        "    - Use `push_to_hub()` method of your model and tokenizer both, to push them on hub\n",
        "    - Specify name for your repository where the model and tokenizer will be pushed using `repo_id` parameter\n",
        "    - Push model and tokenizer to the same repository\n",
        "\n",
        "        - Use `push_to_hub()` method of your model. For parameter details, refer [here](https://huggingface.co/docs/transformers/main_classes/model#transformers.PreTrainedModel.push_to_hub).\n",
        "        - Use `push_to_hub()` method of your tokenizer. For parameter details, refer [here](https://huggingface.co/docs/transformers/main_classes/tokenizer#transformers.PreTrainedTokenizer.push_to_hub).\n",
        "        - Access your pushed model at `https://huggingface.co/[YOUR-USER-NAME]/[YOUR-MODEL-REPO-NAME]/tree/main`"
      ],
      "metadata": {
        "id": "lEYGFyJPeO7W"
      }
    },
    {
      "cell_type": "code",
      "source": [
        "# Push model\n",
        "my_repo = \"gita-text-generation-gpt2\"\n",
        "model.push_to_hub(repo_id= my_repo, commit_message= \"Upload fine-tuned model\")"
      ],
      "metadata": {
        "id": "ROyD_J42ls8T"
      },
      "execution_count": null,
      "outputs": []
    },
    {
      "cell_type": "code",
      "source": [
        "# Push tokenizer\n",
        "tokenizer.push_to_hub(repo_id= my_repo, commit_message= \"Upload tokenizer used\")"
      ],
      "metadata": {
        "id": "qm7WIMgymxPN"
      },
      "execution_count": null,
      "outputs": []
    },
    {
      "cell_type": "markdown",
      "source": [
        "Access your pushed model at `https://huggingface.co/[YOUR-USER-NAME]/[YOUR-MODEL-REPO-NAME]/tree/main`\n",
        "\n",
        "For example: https://huggingface.co/yrajm1997/gita-text-generation-gpt2/tree/main"
      ],
      "metadata": {
        "id": "M9AtJIlaoQOM"
      }
    },
    {
      "cell_type": "markdown",
      "source": [
        "* **Load the model and tokenizer back from Hub and test it with user input prompts**\n",
        "\n",
        "    - In many cases, the architecture you want to use can be guessed from the name or the path of the pretrained model you are supplying to the `from_pretrained()` method. **AutoClasses** can be used to automatically retrieve the relevant model given the name/path to the pretrained weights/config/vocabulary.\n",
        "\n",
        "    - Instantiating one of `AutoConfig`, `AutoModel`, and `AutoTokenizer` will directly create a class of the relevant architecture.\n",
        "\n",
        "    - When the GPT2 Model transformer has a language modeling head on top, you can use an auto class with language modeling head on top as well - `AutoModelWithLMHead`.\n",
        "\n",
        "    - Specify full path of your model repo i.e. ***''YOUR-USER-NAME/YOUR-REPO-NAME''*** while calling `from_pretrained()` method."
      ],
      "metadata": {
        "id": "eP1Ss8v3oynD"
      }
    },
    {
      "cell_type": "code",
      "source": [
        "from transformers import AutoModelWithLMHead, AutoTokenizer"
      ],
      "metadata": {
        "id": "KWCT1lR9nP8c"
      },
      "execution_count": null,
      "outputs": []
    },
    {
      "cell_type": "code",
      "source": [
        "username = \"yrajm1997\"      # change it to your HuggingFace username\n",
        "\n",
        "my_checkpoint = username + '/' + my_repo       # eg. \"yrajm1997/gita-text-generation-gpt2\"\n",
        "my_checkpoint"
      ],
      "metadata": {
        "id": "dH9iW4rkeyKW"
      },
      "execution_count": null,
      "outputs": []
    },
    {
      "cell_type": "code",
      "source": [
        "# Load your model from hub\n",
        "loaded_model = AutoModelWithLMHead.from_pretrained(my_checkpoint)"
      ],
      "metadata": {
        "id": "AtP-5fBzIF-d"
      },
      "execution_count": null,
      "outputs": []
    },
    {
      "cell_type": "code",
      "source": [
        "# Load your tokenizer from hub\n",
        "loaded_tokenizer = AutoTokenizer.from_pretrained(my_checkpoint)"
      ],
      "metadata": {
        "id": "5mtKza_LIOOG"
      },
      "execution_count": null,
      "outputs": []
    },
    {
      "cell_type": "code",
      "source": [
        "# Testing\n",
        "\n",
        "prompt = \"How can one live a righteous life?\"           # Replace with your desired prompt\n",
        "response = generate_response(loaded_model, loaded_tokenizer, prompt)\n",
        "print(\"Generated response:\")\n",
        "response"
      ],
      "metadata": {
        "id": "UwiKrOXEfZDi"
      },
      "execution_count": null,
      "outputs": []
    },
    {
      "cell_type": "markdown",
      "metadata": {
        "id": "ErjQyyi4nR2n"
      },
      "source": [
        "### Please answer the questions below to complete the experiment:\n",
        "\n",
        "\n"
      ]
    },
    {
      "cell_type": "code",
      "metadata": {
        "id": "VgSwVENIPcM6"
      },
      "source": [
        "#@title The architecture of GPT is very similar to: { run: \"auto\", form-width: \"500px\", display-mode: \"form\" }\n",
        "Answer = \"\" #@param [\"\", \"the encoder-only transformer\", \"the decoder-only transformer\", \"the encoder-decoder transformer\", \"none of the above\"]"
      ],
      "execution_count": null,
      "outputs": []
    },
    {
      "cell_type": "code",
      "metadata": {
        "id": "NMzKSbLIgFzQ"
      },
      "source": [
        "#@title How was the experiment? { run: \"auto\", form-width: \"500px\", display-mode: \"form\" }\n",
        "Complexity = \"\" #@param [\"\",\"Too Simple, I am wasting time\", \"Good, But Not Challenging for me\", \"Good and Challenging for me\", \"Was Tough, but I did it\", \"Too Difficult for me\"]"
      ],
      "execution_count": null,
      "outputs": []
    },
    {
      "cell_type": "code",
      "metadata": {
        "id": "DjcH1VWSFI2l"
      },
      "source": [
        "#@title If it was too easy, what more would you have liked to be added? If it was very difficult, what would you have liked to have been removed? { run: \"auto\", display-mode: \"form\" }\n",
        "Additional = \"\" #@param {type:\"string\"}"
      ],
      "execution_count": null,
      "outputs": []
    },
    {
      "cell_type": "code",
      "metadata": {
        "id": "4VBk_4VTAxCM"
      },
      "source": [
        "#@title Can you identify the concepts from the lecture which this experiment covered? { run: \"auto\", vertical-output: true, display-mode: \"form\" }\n",
        "Concepts = \"\" #@param [\"\",\"Yes\", \"No\"]"
      ],
      "execution_count": null,
      "outputs": []
    },
    {
      "cell_type": "code",
      "metadata": {
        "id": "XH91cL1JWH7m"
      },
      "source": [
        "#@title  Text and image description/explanation and code comments within the experiment: { run: \"auto\", vertical-output: true, display-mode: \"form\" }\n",
        "Comments = \"\" #@param [\"\",\"Very Useful\", \"Somewhat Useful\", \"Not Useful\", \"Didn't use\"]"
      ],
      "execution_count": null,
      "outputs": []
    },
    {
      "cell_type": "code",
      "metadata": {
        "id": "z8xLqj7VWIKW"
      },
      "source": [
        "#@title Mentor Support: { run: \"auto\", vertical-output: true, display-mode: \"form\" }\n",
        "Mentor_support = \"\" #@param [\"\",\"Very Useful\", \"Somewhat Useful\", \"Not Useful\", \"Didn't use\"]"
      ],
      "execution_count": null,
      "outputs": []
    },
    {
      "cell_type": "code",
      "metadata": {
        "id": "FzAZHt1zw-Y-",
        "cellView": "form"
      },
      "source": [
        "#@title Run this cell to submit your notebook for grading { vertical-output: true }\n",
        "try:\n",
        "  if submission_id:\n",
        "      return_id = submit_notebook()\n",
        "      if return_id : submission_id = return_id\n",
        "  else:\n",
        "      print(\"Please complete the setup first.\")\n",
        "except NameError:\n",
        "  print (\"Please complete the setup first.\")"
      ],
      "execution_count": null,
      "outputs": []
    }
  ]
}